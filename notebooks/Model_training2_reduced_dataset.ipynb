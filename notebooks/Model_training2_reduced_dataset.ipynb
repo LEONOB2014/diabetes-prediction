{
 "cells": [
  {
   "cell_type": "markdown",
   "id": "be945604-865e-4521-9dbb-cf886cce6505",
   "metadata": {},
   "source": [
    "## Diabetes Predicion Based on Health Survey - Reduced Models for deployment"
   ]
  },
  {
   "cell_type": "markdown",
   "id": "95fbbcf8-3ec6-4320-8089-1d0520fc4c32",
   "metadata": {},
   "source": [
    "In this notebooks are trained reduced models over a filtered dataset of the important variables selected, it is also trained over feature names edited to improve variables understanding over inference. On the EDA and initial model training it was discover a lot of features not originally surveyed but derived from the original variables, so it was identified a lot of correlated varibles reporting the same in different ways, also it was found a lot of not informative variables for the task in hand"
   ]
  },
  {
   "cell_type": "code",
   "execution_count": 52,
   "id": "8165be7f-77ab-41ee-9421-baa21b5b16db",
   "metadata": {},
   "outputs": [],
   "source": [
    "import pandas as pd\n",
    "import gzip\n",
    "import json\n",
    "import pickle\n",
    "\n",
    "import matplotlib.pyplot as plt\n",
    "import pandas as pd\n",
    "from imblearn.over_sampling import RandomOverSampler\n",
    "from sklearn.ensemble import RandomForestClassifier\n",
    "from sklearn.ensemble import GradientBoostingClassifier\n",
    "from sklearn.impute import SimpleImputer\n",
    "from sklearn.metrics import ConfusionMatrixDisplay\n",
    "from sklearn.model_selection import GridSearchCV, cross_val_score, train_test_split\n",
    "from sklearn.pipeline import make_pipeline\n",
    "from sklearn.metrics import (\n",
    "    ConfusionMatrixDisplay,\n",
    "    classification_report,\n",
    "    confusion_matrix,\n",
    ")"
   ]
  },
  {
   "cell_type": "code",
   "execution_count": 24,
   "id": "321745e8-b216-45f0-9035-0aab5ab430ff",
   "metadata": {},
   "outputs": [],
   "source": [
    "# warnings.filterwarnings(\"ignore\")\n",
    "import warnings\n",
    "warnings.filterwarnings('ignore')\n",
    "warnings.simplefilter(action=\"ignore\", category=FutureWarning)\n",
    "# visibility of columns and rows\n",
    "pd.set_option('display.max_columns', None)\n",
    "pd.set_option('display.max_rows', None)"
   ]
  },
  {
   "cell_type": "code",
   "execution_count": 8,
   "id": "f3cf85df-d558-4c8a-af6d-975a132c01b3",
   "metadata": {},
   "outputs": [
    {
     "data": {
      "text/plain": [
       "(67136, 22)"
      ]
     },
     "execution_count": 8,
     "metadata": {},
     "output_type": "execute_result"
    }
   ],
   "source": [
    "df = pd.read_csv('../data/df_train.csv')\n",
    "df.shape"
   ]
  },
  {
   "cell_type": "code",
   "execution_count": 9,
   "id": "6f364eab-cd9f-4f8e-8744-1e080c166ef8",
   "metadata": {},
   "outputs": [
    {
     "data": {
      "text/html": [
       "<div>\n",
       "<style scoped>\n",
       "    .dataframe tbody tr th:only-of-type {\n",
       "        vertical-align: middle;\n",
       "    }\n",
       "\n",
       "    .dataframe tbody tr th {\n",
       "        vertical-align: top;\n",
       "    }\n",
       "\n",
       "    .dataframe thead th {\n",
       "        text-align: right;\n",
       "    }\n",
       "</style>\n",
       "<table border=\"1\" class=\"dataframe\">\n",
       "  <thead>\n",
       "    <tr style=\"text-align: right;\">\n",
       "      <th></th>\n",
       "      <th>Diabetes_binary</th>\n",
       "      <th>HighBP</th>\n",
       "      <th>HighChol</th>\n",
       "      <th>CholCheck</th>\n",
       "      <th>BMI</th>\n",
       "      <th>Smoker</th>\n",
       "      <th>Stroke</th>\n",
       "      <th>HeartDiseaseorAttack</th>\n",
       "      <th>PhysActivity</th>\n",
       "      <th>Fruits</th>\n",
       "      <th>...</th>\n",
       "      <th>AnyHealthcare</th>\n",
       "      <th>NoDocbcCost</th>\n",
       "      <th>GenHlth</th>\n",
       "      <th>MentHlth</th>\n",
       "      <th>PhysHlth</th>\n",
       "      <th>DiffWalk</th>\n",
       "      <th>Sex</th>\n",
       "      <th>Age</th>\n",
       "      <th>Education</th>\n",
       "      <th>Income</th>\n",
       "    </tr>\n",
       "  </thead>\n",
       "  <tbody>\n",
       "    <tr>\n",
       "      <th>0</th>\n",
       "      <td>0.0</td>\n",
       "      <td>1</td>\n",
       "      <td>0.0</td>\n",
       "      <td>1</td>\n",
       "      <td>33.0</td>\n",
       "      <td>0.0</td>\n",
       "      <td>0.0</td>\n",
       "      <td>0.0</td>\n",
       "      <td>1</td>\n",
       "      <td>1</td>\n",
       "      <td>...</td>\n",
       "      <td>1</td>\n",
       "      <td>0.0</td>\n",
       "      <td>2.0</td>\n",
       "      <td>15.0</td>\n",
       "      <td>0.0</td>\n",
       "      <td>1.0</td>\n",
       "      <td>1</td>\n",
       "      <td>7</td>\n",
       "      <td>6.0</td>\n",
       "      <td>9.0</td>\n",
       "    </tr>\n",
       "    <tr>\n",
       "      <th>1</th>\n",
       "      <td>0.0</td>\n",
       "      <td>0</td>\n",
       "      <td>1.0</td>\n",
       "      <td>1</td>\n",
       "      <td>27.0</td>\n",
       "      <td>1.0</td>\n",
       "      <td>0.0</td>\n",
       "      <td>0.0</td>\n",
       "      <td>1</td>\n",
       "      <td>0</td>\n",
       "      <td>...</td>\n",
       "      <td>1</td>\n",
       "      <td>0.0</td>\n",
       "      <td>2.0</td>\n",
       "      <td>1.0</td>\n",
       "      <td>2.0</td>\n",
       "      <td>0.0</td>\n",
       "      <td>1</td>\n",
       "      <td>7</td>\n",
       "      <td>6.0</td>\n",
       "      <td>6.0</td>\n",
       "    </tr>\n",
       "    <tr>\n",
       "      <th>2</th>\n",
       "      <td>0.0</td>\n",
       "      <td>0</td>\n",
       "      <td>1.0</td>\n",
       "      <td>1</td>\n",
       "      <td>26.0</td>\n",
       "      <td>1.0</td>\n",
       "      <td>0.0</td>\n",
       "      <td>0.0</td>\n",
       "      <td>0</td>\n",
       "      <td>0</td>\n",
       "      <td>...</td>\n",
       "      <td>1</td>\n",
       "      <td>0.0</td>\n",
       "      <td>3.0</td>\n",
       "      <td>0.0</td>\n",
       "      <td>30.0</td>\n",
       "      <td>0.0</td>\n",
       "      <td>1</td>\n",
       "      <td>13</td>\n",
       "      <td>4.0</td>\n",
       "      <td>3.0</td>\n",
       "    </tr>\n",
       "    <tr>\n",
       "      <th>3</th>\n",
       "      <td>0.0</td>\n",
       "      <td>0</td>\n",
       "      <td>0.0</td>\n",
       "      <td>1</td>\n",
       "      <td>19.0</td>\n",
       "      <td>1.0</td>\n",
       "      <td>0.0</td>\n",
       "      <td>0.0</td>\n",
       "      <td>1</td>\n",
       "      <td>1</td>\n",
       "      <td>...</td>\n",
       "      <td>1</td>\n",
       "      <td>0.0</td>\n",
       "      <td>3.0</td>\n",
       "      <td>0.0</td>\n",
       "      <td>0.0</td>\n",
       "      <td>0.0</td>\n",
       "      <td>0</td>\n",
       "      <td>11</td>\n",
       "      <td>5.0</td>\n",
       "      <td>7.0</td>\n",
       "    </tr>\n",
       "    <tr>\n",
       "      <th>4</th>\n",
       "      <td>0.0</td>\n",
       "      <td>1</td>\n",
       "      <td>0.0</td>\n",
       "      <td>1</td>\n",
       "      <td>37.0</td>\n",
       "      <td>0.0</td>\n",
       "      <td>0.0</td>\n",
       "      <td>0.0</td>\n",
       "      <td>1</td>\n",
       "      <td>1</td>\n",
       "      <td>...</td>\n",
       "      <td>1</td>\n",
       "      <td>0.0</td>\n",
       "      <td>2.0</td>\n",
       "      <td>0.0</td>\n",
       "      <td>0.0</td>\n",
       "      <td>0.0</td>\n",
       "      <td>0</td>\n",
       "      <td>5</td>\n",
       "      <td>5.0</td>\n",
       "      <td>3.0</td>\n",
       "    </tr>\n",
       "  </tbody>\n",
       "</table>\n",
       "<p>5 rows × 22 columns</p>\n",
       "</div>"
      ],
      "text/plain": [
       "   Diabetes_binary  HighBP  HighChol  CholCheck   BMI  Smoker  Stroke  \\\n",
       "0              0.0       1       0.0          1  33.0     0.0     0.0   \n",
       "1              0.0       0       1.0          1  27.0     1.0     0.0   \n",
       "2              0.0       0       1.0          1  26.0     1.0     0.0   \n",
       "3              0.0       0       0.0          1  19.0     1.0     0.0   \n",
       "4              0.0       1       0.0          1  37.0     0.0     0.0   \n",
       "\n",
       "   HeartDiseaseorAttack  PhysActivity  Fruits  ...  AnyHealthcare  \\\n",
       "0                   0.0             1       1  ...              1   \n",
       "1                   0.0             1       0  ...              1   \n",
       "2                   0.0             0       0  ...              1   \n",
       "3                   0.0             1       1  ...              1   \n",
       "4                   0.0             1       1  ...              1   \n",
       "\n",
       "   NoDocbcCost  GenHlth  MentHlth  PhysHlth  DiffWalk  Sex  Age  Education  \\\n",
       "0          0.0      2.0      15.0       0.0       1.0    1    7        6.0   \n",
       "1          0.0      2.0       1.0       2.0       0.0    1    7        6.0   \n",
       "2          0.0      3.0       0.0      30.0       0.0    1   13        4.0   \n",
       "3          0.0      3.0       0.0       0.0       0.0    0   11        5.0   \n",
       "4          0.0      2.0       0.0       0.0       0.0    0    5        5.0   \n",
       "\n",
       "   Income  \n",
       "0     9.0  \n",
       "1     6.0  \n",
       "2     3.0  \n",
       "3     7.0  \n",
       "4     3.0  \n",
       "\n",
       "[5 rows x 22 columns]"
      ]
     },
     "execution_count": 9,
     "metadata": {},
     "output_type": "execute_result"
    }
   ],
   "source": [
    "df_train.head()"
   ]
  },
  {
   "cell_type": "code",
   "execution_count": 10,
   "id": "3c7d2343-73cf-4a45-86cc-195c1d5ea9aa",
   "metadata": {},
   "outputs": [
    {
     "name": "stdout",
     "output_type": "stream",
     "text": [
      "X shape: (67136, 21)\n",
      "y shape: (67136,)\n"
     ]
    }
   ],
   "source": [
    "target = \"Diabetes_binary\"\n",
    "X = df.drop(columns=target)\n",
    "y = df[target]\n",
    "\n",
    "print(\"X shape:\", X.shape)\n",
    "print(\"y shape:\", y.shape)"
   ]
  },
  {
   "cell_type": "code",
   "execution_count": 12,
   "id": "a581db64-d90f-490c-ad60-66990f09b6c8",
   "metadata": {},
   "outputs": [
    {
     "name": "stdout",
     "output_type": "stream",
     "text": [
      "X_train shape: (53708, 21)\n",
      "y_train shape: (53708,)\n",
      "X_test shape: (13428, 21)\n",
      "y_test shape: (13428,)\n"
     ]
    }
   ],
   "source": [
    "X_train, X_test, y_train, y_test = train_test_split(X, y, test_size=0.2, random_state=42)\n",
    "\n",
    "print(\"X_train shape:\", X_train.shape)\n",
    "print(\"y_train shape:\", y_train.shape)\n",
    "print(\"X_test shape:\", X_test.shape)\n",
    "print(\"y_test shape:\", y_test.shape)"
   ]
  },
  {
   "cell_type": "code",
   "execution_count": 13,
   "id": "839e906c-59d5-477e-b642-fd96788daf5c",
   "metadata": {},
   "outputs": [
    {
     "data": {
      "text/plain": [
       "<Axes: xlabel='Diabetes_binary'>"
      ]
     },
     "execution_count": 13,
     "metadata": {},
     "output_type": "execute_result"
    },
    {
     "data": {
      "image/png": "[encoded data removed]",
      "text/plain": [
       "<Figure size 640x480 with 1 Axes>"
      ]
     },
     "metadata": {},
     "output_type": "display_data"
    }
   ],
   "source": [
    "y_train.value_counts(normalize=True).plot(kind=\"bar\")"
   ]
  },
  {
   "cell_type": "code",
   "execution_count": 14,
   "id": "abfb1cd0-5772-4444-a51b-00e6d5f5daa5",
   "metadata": {},
   "outputs": [
    {
     "name": "stdout",
     "output_type": "stream",
     "text": [
      "Baseline Accuracy: 0.5019\n"
     ]
    }
   ],
   "source": [
    "acc_baseline = y_train.value_counts(normalize=True).max()\n",
    "print(\"Baseline Accuracy:\", round(acc_baseline, 4))"
   ]
  },
  {
   "cell_type": "code",
   "execution_count": 15,
   "id": "96f39ee2-dd4c-4d79-9475-463665894ec5",
   "metadata": {},
   "outputs": [
    {
     "name": "stdout",
     "output_type": "stream",
     "text": [
      "Pipeline(steps=[('simpleimputer', SimpleImputer()),\n",
      "                ('randomforestclassifier',\n",
      "                 RandomForestClassifier(random_state=42))])\n"
     ]
    }
   ],
   "source": [
    "clf = make_pipeline(\n",
    "    SimpleImputer(),\n",
    "    RandomForestClassifier(random_state=42)\n",
    ")\n",
    "print(clf)"
   ]
  },
  {
   "cell_type": "code",
   "execution_count": 17,
   "id": "ac314e8b-2f95-4005-9d3a-abba06a80d77",
   "metadata": {},
   "outputs": [
    {
     "name": "stdout",
     "output_type": "stream",
     "text": [
      "[0.7269596  0.73198659 0.73049711 0.73307886 0.73484778]\n"
     ]
    }
   ],
   "source": [
    "cv_acc_scores = cross_val_score(clf, X_train, y_train, cv=5, n_jobs=-1)\n",
    "print(cv_acc_scores)"
   ]
  },
  {
   "cell_type": "code",
   "execution_count": 18,
   "id": "09b10d81-0fd3-41d3-bcd6-ae2ca34952d3",
   "metadata": {},
   "outputs": [
    {
     "data": {
      "text/plain": [
       "{'simpleimputer__strategy': ['mean', 'median'],\n",
       " 'randomforestclassifier__max_depth': range(10, 50, 10),\n",
       " 'randomforestclassifier__n_estimators': range(25, 100, 25)}"
      ]
     },
     "execution_count": 18,
     "metadata": {},
     "output_type": "execute_result"
    }
   ],
   "source": [
    "params = {\n",
    "    \"simpleimputer__strategy\": [\"mean\", \"median\"],\n",
    "    \"randomforestclassifier__max_depth\": range(10, 50, 10),\n",
    "    \"randomforestclassifier__n_estimators\": range(25, 100, 25) \n",
    "}\n",
    "params"
   ]
  },
  {
   "cell_type": "code",
   "execution_count": 19,
   "id": "de738927-956d-420c-9e3e-5be58ccdb4bd",
   "metadata": {},
   "outputs": [
    {
     "data": {
      "text/html": [
       "<style>#sk-container-id-1 {color: black;background-color: white;}#sk-container-id-1 pre{padding: 0;}#sk-container-id-1 div.sk-toggleable {background-color: white;}#sk-container-id-1 label.sk-toggleable__label {cursor: pointer;display: block;width: 100%;margin-bottom: 0;padding: 0.3em;box-sizing: border-box;text-align: center;}#sk-container-id-1 label.sk-toggleable__label-arrow:before {content: \"▸\";float: left;margin-right: 0.25em;color: #696969;}#sk-container-id-1 label.sk-toggleable__label-arrow:hover:before {color: black;}#sk-container-id-1 div.sk-estimator:hover label.sk-toggleable__label-arrow:before {color: black;}#sk-container-id-1 div.sk-toggleable__content {max-height: 0;max-width: 0;overflow: hidden;text-align: left;background-color: #f0f8ff;}#sk-container-id-1 div.sk-toggleable__content pre {margin: 0.2em;color: black;border-radius: 0.25em;background-color: #f0f8ff;}#sk-container-id-1 input.sk-toggleable__control:checked~div.sk-toggleable__content {max-height: 200px;max-width: 100%;overflow: auto;}#sk-container-id-1 input.sk-toggleable__control:checked~label.sk-toggleable__label-arrow:before {content: \"▾\";}#sk-container-id-1 div.sk-estimator input.sk-toggleable__control:checked~label.sk-toggleable__label {background-color: #d4ebff;}#sk-container-id-1 div.sk-label input.sk-toggleable__control:checked~label.sk-toggleable__label {background-color: #d4ebff;}#sk-container-id-1 input.sk-hidden--visually {border: 0;clip: rect(1px 1px 1px 1px);clip: rect(1px, 1px, 1px, 1px);height: 1px;margin: -1px;overflow: hidden;padding: 0;position: absolute;width: 1px;}#sk-container-id-1 div.sk-estimator {font-family: monospace;background-color: #f0f8ff;border: 1px dotted black;border-radius: 0.25em;box-sizing: border-box;margin-bottom: 0.5em;}#sk-container-id-1 div.sk-estimator:hover {background-color: #d4ebff;}#sk-container-id-1 div.sk-parallel-item::after {content: \"\";width: 100%;border-bottom: 1px solid gray;flex-grow: 1;}#sk-container-id-1 div.sk-label:hover label.sk-toggleable__label {background-color: #d4ebff;}#sk-container-id-1 div.sk-serial::before {content: \"\";position: absolute;border-left: 1px solid gray;box-sizing: border-box;top: 0;bottom: 0;left: 50%;z-index: 0;}#sk-container-id-1 div.sk-serial {display: flex;flex-direction: column;align-items: center;background-color: white;padding-right: 0.2em;padding-left: 0.2em;position: relative;}#sk-container-id-1 div.sk-item {position: relative;z-index: 1;}#sk-container-id-1 div.sk-parallel {display: flex;align-items: stretch;justify-content: center;background-color: white;position: relative;}#sk-container-id-1 div.sk-item::before, #sk-container-id-1 div.sk-parallel-item::before {content: \"\";position: absolute;border-left: 1px solid gray;box-sizing: border-box;top: 0;bottom: 0;left: 50%;z-index: -1;}#sk-container-id-1 div.sk-parallel-item {display: flex;flex-direction: column;z-index: 1;position: relative;background-color: white;}#sk-container-id-1 div.sk-parallel-item:first-child::after {align-self: flex-end;width: 50%;}#sk-container-id-1 div.sk-parallel-item:last-child::after {align-self: flex-start;width: 50%;}#sk-container-id-1 div.sk-parallel-item:only-child::after {width: 0;}#sk-container-id-1 div.sk-dashed-wrapped {border: 1px dashed gray;margin: 0 0.4em 0.5em 0.4em;box-sizing: border-box;padding-bottom: 0.4em;background-color: white;}#sk-container-id-1 div.sk-label label {font-family: monospace;font-weight: bold;display: inline-block;line-height: 1.2em;}#sk-container-id-1 div.sk-label-container {text-align: center;}#sk-container-id-1 div.sk-container {/* jupyter's `normalize.less` sets `[hidden] { display: none; }` but bootstrap.min.css set `[hidden] { display: none !important; }` so we also need the `!important` here to be able to override the default hidden behavior on the sphinx rendered scikit-learn.org. See: https://github.com/scikit-learn/scikit-learn/issues/21755 */display: inline-block !important;position: relative;}#sk-container-id-1 div.sk-text-repr-fallback {display: none;}</style><div id=\"sk-container-id-1\" class=\"sk-top-container\"><div class=\"sk-text-repr-fallback\"><pre>GridSearchCV(cv=5,\n",
       "             estimator=Pipeline(steps=[(&#x27;simpleimputer&#x27;, SimpleImputer()),\n",
       "                                       (&#x27;randomforestclassifier&#x27;,\n",
       "                                        RandomForestClassifier(random_state=42))]),\n",
       "             n_jobs=-1,\n",
       "             param_grid={&#x27;randomforestclassifier__max_depth&#x27;: range(10, 50, 10),\n",
       "                         &#x27;randomforestclassifier__n_estimators&#x27;: range(25, 100, 25),\n",
       "                         &#x27;simpleimputer__strategy&#x27;: [&#x27;mean&#x27;, &#x27;median&#x27;]},\n",
       "             verbose=1)</pre><b>In a Jupyter environment, please rerun this cell to show the HTML representation or trust the notebook. <br />On GitHub, the HTML representation is unable to render, please try loading this page with nbviewer.org.</b></div><div class=\"sk-container\" hidden><div class=\"sk-item sk-dashed-wrapped\"><div class=\"sk-label-container\"><div class=\"sk-label sk-toggleable\"><input class=\"sk-toggleable__control sk-hidden--visually\" id=\"sk-estimator-id-1\" type=\"checkbox\" ><label for=\"sk-estimator-id-1\" class=\"sk-toggleable__label sk-toggleable__label-arrow\">GridSearchCV</label><div class=\"sk-toggleable__content\"><pre>GridSearchCV(cv=5,\n",
       "             estimator=Pipeline(steps=[(&#x27;simpleimputer&#x27;, SimpleImputer()),\n",
       "                                       (&#x27;randomforestclassifier&#x27;,\n",
       "                                        RandomForestClassifier(random_state=42))]),\n",
       "             n_jobs=-1,\n",
       "             param_grid={&#x27;randomforestclassifier__max_depth&#x27;: range(10, 50, 10),\n",
       "                         &#x27;randomforestclassifier__n_estimators&#x27;: range(25, 100, 25),\n",
       "                         &#x27;simpleimputer__strategy&#x27;: [&#x27;mean&#x27;, &#x27;median&#x27;]},\n",
       "             verbose=1)</pre></div></div></div><div class=\"sk-parallel\"><div class=\"sk-parallel-item\"><div class=\"sk-item\"><div class=\"sk-label-container\"><div class=\"sk-label sk-toggleable\"><input class=\"sk-toggleable__control sk-hidden--visually\" id=\"sk-estimator-id-2\" type=\"checkbox\" ><label for=\"sk-estimator-id-2\" class=\"sk-toggleable__label sk-toggleable__label-arrow\">estimator: Pipeline</label><div class=\"sk-toggleable__content\"><pre>Pipeline(steps=[(&#x27;simpleimputer&#x27;, SimpleImputer()),\n",
       "                (&#x27;randomforestclassifier&#x27;,\n",
       "                 RandomForestClassifier(random_state=42))])</pre></div></div></div><div class=\"sk-serial\"><div class=\"sk-item\"><div class=\"sk-serial\"><div class=\"sk-item\"><div class=\"sk-estimator sk-toggleable\"><input class=\"sk-toggleable__control sk-hidden--visually\" id=\"sk-estimator-id-3\" type=\"checkbox\" ><label for=\"sk-estimator-id-3\" class=\"sk-toggleable__label sk-toggleable__label-arrow\">SimpleImputer</label><div class=\"sk-toggleable__content\"><pre>SimpleImputer()</pre></div></div></div><div class=\"sk-item\"><div class=\"sk-estimator sk-toggleable\"><input class=\"sk-toggleable__control sk-hidden--visually\" id=\"sk-estimator-id-4\" type=\"checkbox\" ><label for=\"sk-estimator-id-4\" class=\"sk-toggleable__label sk-toggleable__label-arrow\">RandomForestClassifier</label><div class=\"sk-toggleable__content\"><pre>RandomForestClassifier(random_state=42)</pre></div></div></div></div></div></div></div></div></div></div></div></div>"
      ],
      "text/plain": [
       "GridSearchCV(cv=5,\n",
       "             estimator=Pipeline(steps=[('simpleimputer', SimpleImputer()),\n",
       "                                       ('randomforestclassifier',\n",
       "                                        RandomForestClassifier(random_state=42))]),\n",
       "             n_jobs=-1,\n",
       "             param_grid={'randomforestclassifier__max_depth': range(10, 50, 10),\n",
       "                         'randomforestclassifier__n_estimators': range(25, 100, 25),\n",
       "                         'simpleimputer__strategy': ['mean', 'median']},\n",
       "             verbose=1)"
      ]
     },
     "execution_count": 19,
     "metadata": {},
     "output_type": "execute_result"
    }
   ],
   "source": [
    "model = GridSearchCV(\n",
    "    clf,\n",
    "    param_grid=params,\n",
    "    cv=5,\n",
    "    n_jobs=-1,\n",
    "    verbose=1\n",
    ")\n",
    "model"
   ]
  },
  {
   "cell_type": "code",
   "execution_count": 22,
   "id": "646a1980-8705-4255-a0bf-be8b8aeec27f",
   "metadata": {},
   "outputs": [
    {
     "name": "stdout",
     "output_type": "stream",
     "text": [
      "Fitting 5 folds for each of 24 candidates, totalling 120 fits\n"
     ]
    },
    {
     "data": {
      "text/html": [
       "<style>#sk-container-id-2 {color: black;background-color: white;}#sk-container-id-2 pre{padding: 0;}#sk-container-id-2 div.sk-toggleable {background-color: white;}#sk-container-id-2 label.sk-toggleable__label {cursor: pointer;display: block;width: 100%;margin-bottom: 0;padding: 0.3em;box-sizing: border-box;text-align: center;}#sk-container-id-2 label.sk-toggleable__label-arrow:before {content: \"▸\";float: left;margin-right: 0.25em;color: #696969;}#sk-container-id-2 label.sk-toggleable__label-arrow:hover:before {color: black;}#sk-container-id-2 div.sk-estimator:hover label.sk-toggleable__label-arrow:before {color: black;}#sk-container-id-2 div.sk-toggleable__content {max-height: 0;max-width: 0;overflow: hidden;text-align: left;background-color: #f0f8ff;}#sk-container-id-2 div.sk-toggleable__content pre {margin: 0.2em;color: black;border-radius: 0.25em;background-color: #f0f8ff;}#sk-container-id-2 input.sk-toggleable__control:checked~div.sk-toggleable__content {max-height: 200px;max-width: 100%;overflow: auto;}#sk-container-id-2 input.sk-toggleable__control:checked~label.sk-toggleable__label-arrow:before {content: \"▾\";}#sk-container-id-2 div.sk-estimator input.sk-toggleable__control:checked~label.sk-toggleable__label {background-color: #d4ebff;}#sk-container-id-2 div.sk-label input.sk-toggleable__control:checked~label.sk-toggleable__label {background-color: #d4ebff;}#sk-container-id-2 input.sk-hidden--visually {border: 0;clip: rect(1px 1px 1px 1px);clip: rect(1px, 1px, 1px, 1px);height: 1px;margin: -1px;overflow: hidden;padding: 0;position: absolute;width: 1px;}#sk-container-id-2 div.sk-estimator {font-family: monospace;background-color: #f0f8ff;border: 1px dotted black;border-radius: 0.25em;box-sizing: border-box;margin-bottom: 0.5em;}#sk-container-id-2 div.sk-estimator:hover {background-color: #d4ebff;}#sk-container-id-2 div.sk-parallel-item::after {content: \"\";width: 100%;border-bottom: 1px solid gray;flex-grow: 1;}#sk-container-id-2 div.sk-label:hover label.sk-toggleable__label {background-color: #d4ebff;}#sk-container-id-2 div.sk-serial::before {content: \"\";position: absolute;border-left: 1px solid gray;box-sizing: border-box;top: 0;bottom: 0;left: 50%;z-index: 0;}#sk-container-id-2 div.sk-serial {display: flex;flex-direction: column;align-items: center;background-color: white;padding-right: 0.2em;padding-left: 0.2em;position: relative;}#sk-container-id-2 div.sk-item {position: relative;z-index: 1;}#sk-container-id-2 div.sk-parallel {display: flex;align-items: stretch;justify-content: center;background-color: white;position: relative;}#sk-container-id-2 div.sk-item::before, #sk-container-id-2 div.sk-parallel-item::before {content: \"\";position: absolute;border-left: 1px solid gray;box-sizing: border-box;top: 0;bottom: 0;left: 50%;z-index: -1;}#sk-container-id-2 div.sk-parallel-item {display: flex;flex-direction: column;z-index: 1;position: relative;background-color: white;}#sk-container-id-2 div.sk-parallel-item:first-child::after {align-self: flex-end;width: 50%;}#sk-container-id-2 div.sk-parallel-item:last-child::after {align-self: flex-start;width: 50%;}#sk-container-id-2 div.sk-parallel-item:only-child::after {width: 0;}#sk-container-id-2 div.sk-dashed-wrapped {border: 1px dashed gray;margin: 0 0.4em 0.5em 0.4em;box-sizing: border-box;padding-bottom: 0.4em;background-color: white;}#sk-container-id-2 div.sk-label label {font-family: monospace;font-weight: bold;display: inline-block;line-height: 1.2em;}#sk-container-id-2 div.sk-label-container {text-align: center;}#sk-container-id-2 div.sk-container {/* jupyter's `normalize.less` sets `[hidden] { display: none; }` but bootstrap.min.css set `[hidden] { display: none !important; }` so we also need the `!important` here to be able to override the default hidden behavior on the sphinx rendered scikit-learn.org. See: https://github.com/scikit-learn/scikit-learn/issues/21755 */display: inline-block !important;position: relative;}#sk-container-id-2 div.sk-text-repr-fallback {display: none;}</style><div id=\"sk-container-id-2\" class=\"sk-top-container\"><div class=\"sk-text-repr-fallback\"><pre>GridSearchCV(cv=5,\n",
       "             estimator=Pipeline(steps=[(&#x27;simpleimputer&#x27;, SimpleImputer()),\n",
       "                                       (&#x27;randomforestclassifier&#x27;,\n",
       "                                        RandomForestClassifier(random_state=42))]),\n",
       "             n_jobs=-1,\n",
       "             param_grid={&#x27;randomforestclassifier__max_depth&#x27;: range(10, 50, 10),\n",
       "                         &#x27;randomforestclassifier__n_estimators&#x27;: range(25, 100, 25),\n",
       "                         &#x27;simpleimputer__strategy&#x27;: [&#x27;mean&#x27;, &#x27;median&#x27;]},\n",
       "             verbose=1)</pre><b>In a Jupyter environment, please rerun this cell to show the HTML representation or trust the notebook. <br />On GitHub, the HTML representation is unable to render, please try loading this page with nbviewer.org.</b></div><div class=\"sk-container\" hidden><div class=\"sk-item sk-dashed-wrapped\"><div class=\"sk-label-container\"><div class=\"sk-label sk-toggleable\"><input class=\"sk-toggleable__control sk-hidden--visually\" id=\"sk-estimator-id-5\" type=\"checkbox\" ><label for=\"sk-estimator-id-5\" class=\"sk-toggleable__label sk-toggleable__label-arrow\">GridSearchCV</label><div class=\"sk-toggleable__content\"><pre>GridSearchCV(cv=5,\n",
       "             estimator=Pipeline(steps=[(&#x27;simpleimputer&#x27;, SimpleImputer()),\n",
       "                                       (&#x27;randomforestclassifier&#x27;,\n",
       "                                        RandomForestClassifier(random_state=42))]),\n",
       "             n_jobs=-1,\n",
       "             param_grid={&#x27;randomforestclassifier__max_depth&#x27;: range(10, 50, 10),\n",
       "                         &#x27;randomforestclassifier__n_estimators&#x27;: range(25, 100, 25),\n",
       "                         &#x27;simpleimputer__strategy&#x27;: [&#x27;mean&#x27;, &#x27;median&#x27;]},\n",
       "             verbose=1)</pre></div></div></div><div class=\"sk-parallel\"><div class=\"sk-parallel-item\"><div class=\"sk-item\"><div class=\"sk-label-container\"><div class=\"sk-label sk-toggleable\"><input class=\"sk-toggleable__control sk-hidden--visually\" id=\"sk-estimator-id-6\" type=\"checkbox\" ><label for=\"sk-estimator-id-6\" class=\"sk-toggleable__label sk-toggleable__label-arrow\">estimator: Pipeline</label><div class=\"sk-toggleable__content\"><pre>Pipeline(steps=[(&#x27;simpleimputer&#x27;, SimpleImputer()),\n",
       "                (&#x27;randomforestclassifier&#x27;,\n",
       "                 RandomForestClassifier(random_state=42))])</pre></div></div></div><div class=\"sk-serial\"><div class=\"sk-item\"><div class=\"sk-serial\"><div class=\"sk-item\"><div class=\"sk-estimator sk-toggleable\"><input class=\"sk-toggleable__control sk-hidden--visually\" id=\"sk-estimator-id-7\" type=\"checkbox\" ><label for=\"sk-estimator-id-7\" class=\"sk-toggleable__label sk-toggleable__label-arrow\">SimpleImputer</label><div class=\"sk-toggleable__content\"><pre>SimpleImputer()</pre></div></div></div><div class=\"sk-item\"><div class=\"sk-estimator sk-toggleable\"><input class=\"sk-toggleable__control sk-hidden--visually\" id=\"sk-estimator-id-8\" type=\"checkbox\" ><label for=\"sk-estimator-id-8\" class=\"sk-toggleable__label sk-toggleable__label-arrow\">RandomForestClassifier</label><div class=\"sk-toggleable__content\"><pre>RandomForestClassifier(random_state=42)</pre></div></div></div></div></div></div></div></div></div></div></div></div>"
      ],
      "text/plain": [
       "GridSearchCV(cv=5,\n",
       "             estimator=Pipeline(steps=[('simpleimputer', SimpleImputer()),\n",
       "                                       ('randomforestclassifier',\n",
       "                                        RandomForestClassifier(random_state=42))]),\n",
       "             n_jobs=-1,\n",
       "             param_grid={'randomforestclassifier__max_depth': range(10, 50, 10),\n",
       "                         'randomforestclassifier__n_estimators': range(25, 100, 25),\n",
       "                         'simpleimputer__strategy': ['mean', 'median']},\n",
       "             verbose=1)"
      ]
     },
     "execution_count": 22,
     "metadata": {},
     "output_type": "execute_result"
    }
   ],
   "source": [
    "# Train model\n",
    "model.fit(X_train, y_train)"
   ]
  },
  {
   "cell_type": "code",
   "execution_count": 35,
   "id": "8be65cd8-0f1e-4560-9d1b-e0750aec2cc4",
   "metadata": {},
   "outputs": [
    {
     "data": {
      "text/html": [
       "<div>\n",
       "<style scoped>\n",
       "    .dataframe tbody tr th:only-of-type {\n",
       "        vertical-align: middle;\n",
       "    }\n",
       "\n",
       "    .dataframe tbody tr th {\n",
       "        vertical-align: top;\n",
       "    }\n",
       "\n",
       "    .dataframe thead th {\n",
       "        text-align: right;\n",
       "    }\n",
       "</style>\n",
       "<table border=\"1\" class=\"dataframe\">\n",
       "  <thead>\n",
       "    <tr style=\"text-align: right;\">\n",
       "      <th></th>\n",
       "      <th>mean_fit_time</th>\n",
       "      <th>std_fit_time</th>\n",
       "      <th>mean_score_time</th>\n",
       "      <th>std_score_time</th>\n",
       "      <th>param_randomforestclassifier__max_depth</th>\n",
       "      <th>param_randomforestclassifier__n_estimators</th>\n",
       "      <th>param_simpleimputer__strategy</th>\n",
       "      <th>params</th>\n",
       "      <th>split0_test_score</th>\n",
       "      <th>split1_test_score</th>\n",
       "      <th>split2_test_score</th>\n",
       "      <th>split3_test_score</th>\n",
       "      <th>split4_test_score</th>\n",
       "      <th>mean_test_score</th>\n",
       "      <th>std_test_score</th>\n",
       "      <th>rank_test_score</th>\n",
       "    </tr>\n",
       "  </thead>\n",
       "  <tbody>\n",
       "    <tr>\n",
       "      <th>0</th>\n",
       "      <td>2.037401</td>\n",
       "      <td>0.164594</td>\n",
       "      <td>0.182759</td>\n",
       "      <td>0.061137</td>\n",
       "      <td>10</td>\n",
       "      <td>25</td>\n",
       "      <td>mean</td>\n",
       "      <td>{'randomforestclassifier__max_depth': 10, 'ran...</td>\n",
       "      <td>0.740923</td>\n",
       "      <td>0.745113</td>\n",
       "      <td>0.742878</td>\n",
       "      <td>0.742668</td>\n",
       "      <td>0.743692</td>\n",
       "      <td>0.743055</td>\n",
       "      <td>0.001369</td>\n",
       "      <td>5</td>\n",
       "    </tr>\n",
       "    <tr>\n",
       "      <th>1</th>\n",
       "      <td>2.231800</td>\n",
       "      <td>0.159261</td>\n",
       "      <td>0.155714</td>\n",
       "      <td>0.023720</td>\n",
       "      <td>10</td>\n",
       "      <td>25</td>\n",
       "      <td>median</td>\n",
       "      <td>{'randomforestclassifier__max_depth': 10, 'ran...</td>\n",
       "      <td>0.740923</td>\n",
       "      <td>0.745113</td>\n",
       "      <td>0.742878</td>\n",
       "      <td>0.742668</td>\n",
       "      <td>0.743692</td>\n",
       "      <td>0.743055</td>\n",
       "      <td>0.001369</td>\n",
       "      <td>5</td>\n",
       "    </tr>\n",
       "    <tr>\n",
       "      <th>2</th>\n",
       "      <td>4.020223</td>\n",
       "      <td>0.548155</td>\n",
       "      <td>0.311328</td>\n",
       "      <td>0.022072</td>\n",
       "      <td>10</td>\n",
       "      <td>50</td>\n",
       "      <td>mean</td>\n",
       "      <td>{'randomforestclassifier__max_depth': 10, 'ran...</td>\n",
       "      <td>0.741761</td>\n",
       "      <td>0.747347</td>\n",
       "      <td>0.741296</td>\n",
       "      <td>0.743506</td>\n",
       "      <td>0.744530</td>\n",
       "      <td>0.743688</td>\n",
       "      <td>0.002171</td>\n",
       "      <td>3</td>\n",
       "    </tr>\n",
       "    <tr>\n",
       "      <th>3</th>\n",
       "      <td>4.546008</td>\n",
       "      <td>0.157317</td>\n",
       "      <td>0.231399</td>\n",
       "      <td>0.023059</td>\n",
       "      <td>10</td>\n",
       "      <td>50</td>\n",
       "      <td>median</td>\n",
       "      <td>{'randomforestclassifier__max_depth': 10, 'ran...</td>\n",
       "      <td>0.741761</td>\n",
       "      <td>0.747347</td>\n",
       "      <td>0.741296</td>\n",
       "      <td>0.743506</td>\n",
       "      <td>0.744530</td>\n",
       "      <td>0.743688</td>\n",
       "      <td>0.002171</td>\n",
       "      <td>3</td>\n",
       "    </tr>\n",
       "    <tr>\n",
       "      <th>4</th>\n",
       "      <td>6.100298</td>\n",
       "      <td>0.312643</td>\n",
       "      <td>0.340139</td>\n",
       "      <td>0.053179</td>\n",
       "      <td>10</td>\n",
       "      <td>75</td>\n",
       "      <td>mean</td>\n",
       "      <td>{'randomforestclassifier__max_depth': 10, 'ran...</td>\n",
       "      <td>0.741854</td>\n",
       "      <td>0.748185</td>\n",
       "      <td>0.741110</td>\n",
       "      <td>0.744437</td>\n",
       "      <td>0.746113</td>\n",
       "      <td>0.744340</td>\n",
       "      <td>0.002629</td>\n",
       "      <td>1</td>\n",
       "    </tr>\n",
       "    <tr>\n",
       "      <th>5</th>\n",
       "      <td>6.096091</td>\n",
       "      <td>0.362855</td>\n",
       "      <td>0.351127</td>\n",
       "      <td>0.060994</td>\n",
       "      <td>10</td>\n",
       "      <td>75</td>\n",
       "      <td>median</td>\n",
       "      <td>{'randomforestclassifier__max_depth': 10, 'ran...</td>\n",
       "      <td>0.741854</td>\n",
       "      <td>0.748185</td>\n",
       "      <td>0.741110</td>\n",
       "      <td>0.744437</td>\n",
       "      <td>0.746113</td>\n",
       "      <td>0.744340</td>\n",
       "      <td>0.002629</td>\n",
       "      <td>1</td>\n",
       "    </tr>\n",
       "    <tr>\n",
       "      <th>6</th>\n",
       "      <td>3.042310</td>\n",
       "      <td>0.279703</td>\n",
       "      <td>0.192353</td>\n",
       "      <td>0.017398</td>\n",
       "      <td>20</td>\n",
       "      <td>25</td>\n",
       "      <td>mean</td>\n",
       "      <td>{'randomforestclassifier__max_depth': 20, 'ran...</td>\n",
       "      <td>0.730032</td>\n",
       "      <td>0.738131</td>\n",
       "      <td>0.729845</td>\n",
       "      <td>0.737734</td>\n",
       "      <td>0.736430</td>\n",
       "      <td>0.734434</td>\n",
       "      <td>0.003714</td>\n",
       "      <td>11</td>\n",
       "    </tr>\n",
       "    <tr>\n",
       "      <th>7</th>\n",
       "      <td>3.338792</td>\n",
       "      <td>0.161159</td>\n",
       "      <td>0.211074</td>\n",
       "      <td>0.039669</td>\n",
       "      <td>20</td>\n",
       "      <td>25</td>\n",
       "      <td>median</td>\n",
       "      <td>{'randomforestclassifier__max_depth': 20, 'ran...</td>\n",
       "      <td>0.730032</td>\n",
       "      <td>0.738131</td>\n",
       "      <td>0.729845</td>\n",
       "      <td>0.737734</td>\n",
       "      <td>0.736430</td>\n",
       "      <td>0.734434</td>\n",
       "      <td>0.003714</td>\n",
       "      <td>11</td>\n",
       "    </tr>\n",
       "    <tr>\n",
       "      <th>8</th>\n",
       "      <td>5.939080</td>\n",
       "      <td>0.409797</td>\n",
       "      <td>0.397061</td>\n",
       "      <td>0.036232</td>\n",
       "      <td>20</td>\n",
       "      <td>50</td>\n",
       "      <td>mean</td>\n",
       "      <td>{'randomforestclassifier__max_depth': 20, 'ran...</td>\n",
       "      <td>0.734500</td>\n",
       "      <td>0.738131</td>\n",
       "      <td>0.731987</td>\n",
       "      <td>0.740899</td>\n",
       "      <td>0.737734</td>\n",
       "      <td>0.736650</td>\n",
       "      <td>0.003092</td>\n",
       "      <td>9</td>\n",
       "    </tr>\n",
       "    <tr>\n",
       "      <th>9</th>\n",
       "      <td>6.185118</td>\n",
       "      <td>0.348860</td>\n",
       "      <td>0.406040</td>\n",
       "      <td>0.087334</td>\n",
       "      <td>20</td>\n",
       "      <td>50</td>\n",
       "      <td>median</td>\n",
       "      <td>{'randomforestclassifier__max_depth': 20, 'ran...</td>\n",
       "      <td>0.734500</td>\n",
       "      <td>0.738131</td>\n",
       "      <td>0.731987</td>\n",
       "      <td>0.740899</td>\n",
       "      <td>0.737734</td>\n",
       "      <td>0.736650</td>\n",
       "      <td>0.003092</td>\n",
       "      <td>9</td>\n",
       "    </tr>\n",
       "    <tr>\n",
       "      <th>10</th>\n",
       "      <td>8.728048</td>\n",
       "      <td>0.217648</td>\n",
       "      <td>0.528424</td>\n",
       "      <td>0.040879</td>\n",
       "      <td>20</td>\n",
       "      <td>75</td>\n",
       "      <td>mean</td>\n",
       "      <td>{'randomforestclassifier__max_depth': 20, 'ran...</td>\n",
       "      <td>0.735617</td>\n",
       "      <td>0.739806</td>\n",
       "      <td>0.735431</td>\n",
       "      <td>0.740155</td>\n",
       "      <td>0.741644</td>\n",
       "      <td>0.738531</td>\n",
       "      <td>0.002532</td>\n",
       "      <td>7</td>\n",
       "    </tr>\n",
       "    <tr>\n",
       "      <th>11</th>\n",
       "      <td>8.570361</td>\n",
       "      <td>0.313264</td>\n",
       "      <td>0.547017</td>\n",
       "      <td>0.054036</td>\n",
       "      <td>20</td>\n",
       "      <td>75</td>\n",
       "      <td>median</td>\n",
       "      <td>{'randomforestclassifier__max_depth': 20, 'ran...</td>\n",
       "      <td>0.735617</td>\n",
       "      <td>0.739806</td>\n",
       "      <td>0.735431</td>\n",
       "      <td>0.740155</td>\n",
       "      <td>0.741644</td>\n",
       "      <td>0.738531</td>\n",
       "      <td>0.002532</td>\n",
       "      <td>7</td>\n",
       "    </tr>\n",
       "    <tr>\n",
       "      <th>12</th>\n",
       "      <td>3.187062</td>\n",
       "      <td>0.127287</td>\n",
       "      <td>0.194277</td>\n",
       "      <td>0.017911</td>\n",
       "      <td>30</td>\n",
       "      <td>25</td>\n",
       "      <td>mean</td>\n",
       "      <td>{'randomforestclassifier__max_depth': 30, 'ran...</td>\n",
       "      <td>0.717650</td>\n",
       "      <td>0.725656</td>\n",
       "      <td>0.725377</td>\n",
       "      <td>0.725072</td>\n",
       "      <td>0.727679</td>\n",
       "      <td>0.724287</td>\n",
       "      <td>0.003442</td>\n",
       "      <td>21</td>\n",
       "    </tr>\n",
       "    <tr>\n",
       "      <th>13</th>\n",
       "      <td>3.360393</td>\n",
       "      <td>0.190946</td>\n",
       "      <td>0.213639</td>\n",
       "      <td>0.021619</td>\n",
       "      <td>30</td>\n",
       "      <td>25</td>\n",
       "      <td>median</td>\n",
       "      <td>{'randomforestclassifier__max_depth': 30, 'ran...</td>\n",
       "      <td>0.717650</td>\n",
       "      <td>0.725656</td>\n",
       "      <td>0.725377</td>\n",
       "      <td>0.725072</td>\n",
       "      <td>0.727679</td>\n",
       "      <td>0.724287</td>\n",
       "      <td>0.003442</td>\n",
       "      <td>21</td>\n",
       "    </tr>\n",
       "    <tr>\n",
       "      <th>14</th>\n",
       "      <td>5.908442</td>\n",
       "      <td>0.191011</td>\n",
       "      <td>0.412658</td>\n",
       "      <td>0.047414</td>\n",
       "      <td>30</td>\n",
       "      <td>50</td>\n",
       "      <td>mean</td>\n",
       "      <td>{'randomforestclassifier__max_depth': 30, 'ran...</td>\n",
       "      <td>0.720071</td>\n",
       "      <td>0.730218</td>\n",
       "      <td>0.729752</td>\n",
       "      <td>0.725724</td>\n",
       "      <td>0.732055</td>\n",
       "      <td>0.727564</td>\n",
       "      <td>0.004279</td>\n",
       "      <td>19</td>\n",
       "    </tr>\n",
       "    <tr>\n",
       "      <th>15</th>\n",
       "      <td>6.250010</td>\n",
       "      <td>0.340126</td>\n",
       "      <td>0.372530</td>\n",
       "      <td>0.045628</td>\n",
       "      <td>30</td>\n",
       "      <td>50</td>\n",
       "      <td>median</td>\n",
       "      <td>{'randomforestclassifier__max_depth': 30, 'ran...</td>\n",
       "      <td>0.720071</td>\n",
       "      <td>0.730218</td>\n",
       "      <td>0.729752</td>\n",
       "      <td>0.725724</td>\n",
       "      <td>0.732055</td>\n",
       "      <td>0.727564</td>\n",
       "      <td>0.004279</td>\n",
       "      <td>19</td>\n",
       "    </tr>\n",
       "    <tr>\n",
       "      <th>16</th>\n",
       "      <td>8.600975</td>\n",
       "      <td>0.475726</td>\n",
       "      <td>0.534252</td>\n",
       "      <td>0.050100</td>\n",
       "      <td>30</td>\n",
       "      <td>75</td>\n",
       "      <td>mean</td>\n",
       "      <td>{'randomforestclassifier__max_depth': 30, 'ran...</td>\n",
       "      <td>0.725005</td>\n",
       "      <td>0.730963</td>\n",
       "      <td>0.730776</td>\n",
       "      <td>0.729355</td>\n",
       "      <td>0.734475</td>\n",
       "      <td>0.730115</td>\n",
       "      <td>0.003061</td>\n",
       "      <td>15</td>\n",
       "    </tr>\n",
       "    <tr>\n",
       "      <th>17</th>\n",
       "      <td>10.290688</td>\n",
       "      <td>0.341598</td>\n",
       "      <td>0.703362</td>\n",
       "      <td>0.142905</td>\n",
       "      <td>30</td>\n",
       "      <td>75</td>\n",
       "      <td>median</td>\n",
       "      <td>{'randomforestclassifier__max_depth': 30, 'ran...</td>\n",
       "      <td>0.725005</td>\n",
       "      <td>0.730963</td>\n",
       "      <td>0.730776</td>\n",
       "      <td>0.729355</td>\n",
       "      <td>0.734475</td>\n",
       "      <td>0.730115</td>\n",
       "      <td>0.003061</td>\n",
       "      <td>15</td>\n",
       "    </tr>\n",
       "    <tr>\n",
       "      <th>18</th>\n",
       "      <td>3.119762</td>\n",
       "      <td>0.270295</td>\n",
       "      <td>0.205275</td>\n",
       "      <td>0.045056</td>\n",
       "      <td>40</td>\n",
       "      <td>25</td>\n",
       "      <td>mean</td>\n",
       "      <td>{'randomforestclassifier__max_depth': 40, 'ran...</td>\n",
       "      <td>0.718861</td>\n",
       "      <td>0.723050</td>\n",
       "      <td>0.724725</td>\n",
       "      <td>0.721627</td>\n",
       "      <td>0.728238</td>\n",
       "      <td>0.723300</td>\n",
       "      <td>0.003130</td>\n",
       "      <td>23</td>\n",
       "    </tr>\n",
       "    <tr>\n",
       "      <th>19</th>\n",
       "      <td>3.071872</td>\n",
       "      <td>0.238590</td>\n",
       "      <td>0.303022</td>\n",
       "      <td>0.040004</td>\n",
       "      <td>40</td>\n",
       "      <td>25</td>\n",
       "      <td>median</td>\n",
       "      <td>{'randomforestclassifier__max_depth': 40, 'ran...</td>\n",
       "      <td>0.718861</td>\n",
       "      <td>0.723050</td>\n",
       "      <td>0.724725</td>\n",
       "      <td>0.721627</td>\n",
       "      <td>0.728238</td>\n",
       "      <td>0.723300</td>\n",
       "      <td>0.003130</td>\n",
       "      <td>23</td>\n",
       "    </tr>\n",
       "    <tr>\n",
       "      <th>20</th>\n",
       "      <td>6.560947</td>\n",
       "      <td>0.165293</td>\n",
       "      <td>0.508659</td>\n",
       "      <td>0.117996</td>\n",
       "      <td>40</td>\n",
       "      <td>50</td>\n",
       "      <td>mean</td>\n",
       "      <td>{'randomforestclassifier__max_depth': 40, 'ran...</td>\n",
       "      <td>0.725563</td>\n",
       "      <td>0.731521</td>\n",
       "      <td>0.728356</td>\n",
       "      <td>0.727586</td>\n",
       "      <td>0.733917</td>\n",
       "      <td>0.729389</td>\n",
       "      <td>0.002967</td>\n",
       "      <td>17</td>\n",
       "    </tr>\n",
       "    <tr>\n",
       "      <th>21</th>\n",
       "      <td>6.068133</td>\n",
       "      <td>0.454099</td>\n",
       "      <td>0.331640</td>\n",
       "      <td>0.049778</td>\n",
       "      <td>40</td>\n",
       "      <td>50</td>\n",
       "      <td>median</td>\n",
       "      <td>{'randomforestclassifier__max_depth': 40, 'ran...</td>\n",
       "      <td>0.725563</td>\n",
       "      <td>0.731521</td>\n",
       "      <td>0.728356</td>\n",
       "      <td>0.727586</td>\n",
       "      <td>0.733917</td>\n",
       "      <td>0.729389</td>\n",
       "      <td>0.002967</td>\n",
       "      <td>17</td>\n",
       "    </tr>\n",
       "    <tr>\n",
       "      <th>22</th>\n",
       "      <td>7.303207</td>\n",
       "      <td>0.469884</td>\n",
       "      <td>0.345293</td>\n",
       "      <td>0.007149</td>\n",
       "      <td>40</td>\n",
       "      <td>75</td>\n",
       "      <td>mean</td>\n",
       "      <td>{'randomforestclassifier__max_depth': 40, 'ran...</td>\n",
       "      <td>0.726029</td>\n",
       "      <td>0.732824</td>\n",
       "      <td>0.728915</td>\n",
       "      <td>0.730565</td>\n",
       "      <td>0.732520</td>\n",
       "      <td>0.730171</td>\n",
       "      <td>0.002508</td>\n",
       "      <td>13</td>\n",
       "    </tr>\n",
       "    <tr>\n",
       "      <th>23</th>\n",
       "      <td>6.347552</td>\n",
       "      <td>0.496211</td>\n",
       "      <td>0.312384</td>\n",
       "      <td>0.025103</td>\n",
       "      <td>40</td>\n",
       "      <td>75</td>\n",
       "      <td>median</td>\n",
       "      <td>{'randomforestclassifier__max_depth': 40, 'ran...</td>\n",
       "      <td>0.726029</td>\n",
       "      <td>0.732824</td>\n",
       "      <td>0.728915</td>\n",
       "      <td>0.730565</td>\n",
       "      <td>0.732520</td>\n",
       "      <td>0.730171</td>\n",
       "      <td>0.002508</td>\n",
       "      <td>13</td>\n",
       "    </tr>\n",
       "  </tbody>\n",
       "</table>\n",
       "</div>"
      ],
      "text/plain": [
       "    mean_fit_time  std_fit_time  mean_score_time  std_score_time  \\\n",
       "0        2.037401      0.164594         0.182759        0.061137   \n",
       "1        2.231800      0.159261         0.155714        0.023720   \n",
       "2        4.020223      0.548155         0.311328        0.022072   \n",
       "3        4.546008      0.157317         0.231399        0.023059   \n",
       "4        6.100298      0.312643         0.340139        0.053179   \n",
       "5        6.096091      0.362855         0.351127        0.060994   \n",
       "6        3.042310      0.279703         0.192353        0.017398   \n",
       "7        3.338792      0.161159         0.211074        0.039669   \n",
       "8        5.939080      0.409797         0.397061        0.036232   \n",
       "9        6.185118      0.348860         0.406040        0.087334   \n",
       "10       8.728048      0.217648         0.528424        0.040879   \n",
       "11       8.570361      0.313264         0.547017        0.054036   \n",
       "12       3.187062      0.127287         0.194277        0.017911   \n",
       "13       3.360393      0.190946         0.213639        0.021619   \n",
       "14       5.908442      0.191011         0.412658        0.047414   \n",
       "15       6.250010      0.340126         0.372530        0.045628   \n",
       "16       8.600975      0.475726         0.534252        0.050100   \n",
       "17      10.290688      0.341598         0.703362        0.142905   \n",
       "18       3.119762      0.270295         0.205275        0.045056   \n",
       "19       3.071872      0.238590         0.303022        0.040004   \n",
       "20       6.560947      0.165293         0.508659        0.117996   \n",
       "21       6.068133      0.454099         0.331640        0.049778   \n",
       "22       7.303207      0.469884         0.345293        0.007149   \n",
       "23       6.347552      0.496211         0.312384        0.025103   \n",
       "\n",
       "   param_randomforestclassifier__max_depth  \\\n",
       "0                                       10   \n",
       "1                                       10   \n",
       "2                                       10   \n",
       "3                                       10   \n",
       "4                                       10   \n",
       "5                                       10   \n",
       "6                                       20   \n",
       "7                                       20   \n",
       "8                                       20   \n",
       "9                                       20   \n",
       "10                                      20   \n",
       "11                                      20   \n",
       "12                                      30   \n",
       "13                                      30   \n",
       "14                                      30   \n",
       "15                                      30   \n",
       "16                                      30   \n",
       "17                                      30   \n",
       "18                                      40   \n",
       "19                                      40   \n",
       "20                                      40   \n",
       "21                                      40   \n",
       "22                                      40   \n",
       "23                                      40   \n",
       "\n",
       "   param_randomforestclassifier__n_estimators param_simpleimputer__strategy  \\\n",
       "0                                          25                          mean   \n",
       "1                                          25                        median   \n",
       "2                                          50                          mean   \n",
       "3                                          50                        median   \n",
       "4                                          75                          mean   \n",
       "5                                          75                        median   \n",
       "6                                          25                          mean   \n",
       "7                                          25                        median   \n",
       "8                                          50                          mean   \n",
       "9                                          50                        median   \n",
       "10                                         75                          mean   \n",
       "11                                         75                        median   \n",
       "12                                         25                          mean   \n",
       "13                                         25                        median   \n",
       "14                                         50                          mean   \n",
       "15                                         50                        median   \n",
       "16                                         75                          mean   \n",
       "17                                         75                        median   \n",
       "18                                         25                          mean   \n",
       "19                                         25                        median   \n",
       "20                                         50                          mean   \n",
       "21                                         50                        median   \n",
       "22                                         75                          mean   \n",
       "23                                         75                        median   \n",
       "\n",
       "                                               params  split0_test_score  \\\n",
       "0   {'randomforestclassifier__max_depth': 10, 'ran...           0.740923   \n",
       "1   {'randomforestclassifier__max_depth': 10, 'ran...           0.740923   \n",
       "2   {'randomforestclassifier__max_depth': 10, 'ran...           0.741761   \n",
       "3   {'randomforestclassifier__max_depth': 10, 'ran...           0.741761   \n",
       "4   {'randomforestclassifier__max_depth': 10, 'ran...           0.741854   \n",
       "5   {'randomforestclassifier__max_depth': 10, 'ran...           0.741854   \n",
       "6   {'randomforestclassifier__max_depth': 20, 'ran...           0.730032   \n",
       "7   {'randomforestclassifier__max_depth': 20, 'ran...           0.730032   \n",
       "8   {'randomforestclassifier__max_depth': 20, 'ran...           0.734500   \n",
       "9   {'randomforestclassifier__max_depth': 20, 'ran...           0.734500   \n",
       "10  {'randomforestclassifier__max_depth': 20, 'ran...           0.735617   \n",
       "11  {'randomforestclassifier__max_depth': 20, 'ran...           0.735617   \n",
       "12  {'randomforestclassifier__max_depth': 30, 'ran...           0.717650   \n",
       "13  {'randomforestclassifier__max_depth': 30, 'ran...           0.717650   \n",
       "14  {'randomforestclassifier__max_depth': 30, 'ran...           0.720071   \n",
       "15  {'randomforestclassifier__max_depth': 30, 'ran...           0.720071   \n",
       "16  {'randomforestclassifier__max_depth': 30, 'ran...           0.725005   \n",
       "17  {'randomforestclassifier__max_depth': 30, 'ran...           0.725005   \n",
       "18  {'randomforestclassifier__max_depth': 40, 'ran...           0.718861   \n",
       "19  {'randomforestclassifier__max_depth': 40, 'ran...           0.718861   \n",
       "20  {'randomforestclassifier__max_depth': 40, 'ran...           0.725563   \n",
       "21  {'randomforestclassifier__max_depth': 40, 'ran...           0.725563   \n",
       "22  {'randomforestclassifier__max_depth': 40, 'ran...           0.726029   \n",
       "23  {'randomforestclassifier__max_depth': 40, 'ran...           0.726029   \n",
       "\n",
       "    split1_test_score  split2_test_score  split3_test_score  \\\n",
       "0            0.745113           0.742878           0.742668   \n",
       "1            0.745113           0.742878           0.742668   \n",
       "2            0.747347           0.741296           0.743506   \n",
       "3            0.747347           0.741296           0.743506   \n",
       "4            0.748185           0.741110           0.744437   \n",
       "5            0.748185           0.741110           0.744437   \n",
       "6            0.738131           0.729845           0.737734   \n",
       "7            0.738131           0.729845           0.737734   \n",
       "8            0.738131           0.731987           0.740899   \n",
       "9            0.738131           0.731987           0.740899   \n",
       "10           0.739806           0.735431           0.740155   \n",
       "11           0.739806           0.735431           0.740155   \n",
       "12           0.725656           0.725377           0.725072   \n",
       "13           0.725656           0.725377           0.725072   \n",
       "14           0.730218           0.729752           0.725724   \n",
       "15           0.730218           0.729752           0.725724   \n",
       "16           0.730963           0.730776           0.729355   \n",
       "17           0.730963           0.730776           0.729355   \n",
       "18           0.723050           0.724725           0.721627   \n",
       "19           0.723050           0.724725           0.721627   \n",
       "20           0.731521           0.728356           0.727586   \n",
       "21           0.731521           0.728356           0.727586   \n",
       "22           0.732824           0.728915           0.730565   \n",
       "23           0.732824           0.728915           0.730565   \n",
       "\n",
       "    split4_test_score  mean_test_score  std_test_score  rank_test_score  \n",
       "0            0.743692         0.743055        0.001369                5  \n",
       "1            0.743692         0.743055        0.001369                5  \n",
       "2            0.744530         0.743688        0.002171                3  \n",
       "3            0.744530         0.743688        0.002171                3  \n",
       "4            0.746113         0.744340        0.002629                1  \n",
       "5            0.746113         0.744340        0.002629                1  \n",
       "6            0.736430         0.734434        0.003714               11  \n",
       "7            0.736430         0.734434        0.003714               11  \n",
       "8            0.737734         0.736650        0.003092                9  \n",
       "9            0.737734         0.736650        0.003092                9  \n",
       "10           0.741644         0.738531        0.002532                7  \n",
       "11           0.741644         0.738531        0.002532                7  \n",
       "12           0.727679         0.724287        0.003442               21  \n",
       "13           0.727679         0.724287        0.003442               21  \n",
       "14           0.732055         0.727564        0.004279               19  \n",
       "15           0.732055         0.727564        0.004279               19  \n",
       "16           0.734475         0.730115        0.003061               15  \n",
       "17           0.734475         0.730115        0.003061               15  \n",
       "18           0.728238         0.723300        0.003130               23  \n",
       "19           0.728238         0.723300        0.003130               23  \n",
       "20           0.733917         0.729389        0.002967               17  \n",
       "21           0.733917         0.729389        0.002967               17  \n",
       "22           0.732520         0.730171        0.002508               13  \n",
       "23           0.732520         0.730171        0.002508               13  "
      ]
     },
     "execution_count": 35,
     "metadata": {},
     "output_type": "execute_result"
    }
   ],
   "source": [
    "cv_results = pd.DataFrame(model.cv_results_)\n",
    "cv_results"
   ]
  },
  {
   "cell_type": "code",
   "execution_count": 26,
   "id": "b5d97250-a719-4fdc-b04f-3df7217aa6c9",
   "metadata": {},
   "outputs": [
    {
     "data": {
      "text/html": [
       "<div>\n",
       "<style scoped>\n",
       "    .dataframe tbody tr th:only-of-type {\n",
       "        vertical-align: middle;\n",
       "    }\n",
       "\n",
       "    .dataframe tbody tr th {\n",
       "        vertical-align: top;\n",
       "    }\n",
       "\n",
       "    .dataframe thead th {\n",
       "        text-align: right;\n",
       "    }\n",
       "</style>\n",
       "<table border=\"1\" class=\"dataframe\">\n",
       "  <thead>\n",
       "    <tr style=\"text-align: right;\">\n",
       "      <th></th>\n",
       "      <th>params</th>\n",
       "      <th>mean_test_score</th>\n",
       "    </tr>\n",
       "  </thead>\n",
       "  <tbody>\n",
       "    <tr>\n",
       "      <th>4</th>\n",
       "      <td>{'randomforestclassifier__max_depth': 10, 'ran...</td>\n",
       "      <td>0.74434</td>\n",
       "    </tr>\n",
       "    <tr>\n",
       "      <th>5</th>\n",
       "      <td>{'randomforestclassifier__max_depth': 10, 'ran...</td>\n",
       "      <td>0.74434</td>\n",
       "    </tr>\n",
       "  </tbody>\n",
       "</table>\n",
       "</div>"
      ],
      "text/plain": [
       "                                              params  mean_test_score\n",
       "4  {'randomforestclassifier__max_depth': 10, 'ran...          0.74434\n",
       "5  {'randomforestclassifier__max_depth': 10, 'ran...          0.74434"
      ]
     },
     "execution_count": 26,
     "metadata": {},
     "output_type": "execute_result"
    }
   ],
   "source": [
    "cv_results.loc[4:5, ['params', 'mean_test_score']]"
   ]
  },
  {
   "cell_type": "code",
   "execution_count": 32,
   "id": "7d73f16f-bd99-4f62-9185-501264c4417e",
   "metadata": {},
   "outputs": [
    {
     "data": {
      "text/plain": [
       "{'randomforestclassifier__max_depth': 10,\n",
       " 'randomforestclassifier__n_estimators': 75,\n",
       " 'simpleimputer__strategy': 'mean'}"
      ]
     },
     "execution_count": 32,
     "metadata": {},
     "output_type": "execute_result"
    }
   ],
   "source": [
    "cv_results.loc[4:5, ['params', 'mean_test_score']].loc[4, 'params']"
   ]
  },
  {
   "cell_type": "code",
   "execution_count": 33,
   "id": "839fcc69-cf53-4c53-bd90-a0c8de837a03",
   "metadata": {},
   "outputs": [
    {
     "data": {
      "text/plain": [
       "{'randomforestclassifier__max_depth': 10,\n",
       " 'randomforestclassifier__n_estimators': 75,\n",
       " 'simpleimputer__strategy': 'median'}"
      ]
     },
     "execution_count": 33,
     "metadata": {},
     "output_type": "execute_result"
    }
   ],
   "source": [
    "cv_results.loc[4:5, ['params', 'mean_test_score']].loc[5, 'params']"
   ]
  },
  {
   "cell_type": "code",
   "execution_count": 34,
   "id": "9e536d8e-a8d8-40c4-9aea-94b94017e698",
   "metadata": {},
   "outputs": [
    {
     "data": {
      "image/png": "[encoded data removed]",
      "text/plain": [
       "<Figure size 640x480 with 1 Axes>"
      ]
     },
     "metadata": {},
     "output_type": "display_data"
    }
   ],
   "source": [
    "# Create mask\n",
    "mask = cv_results[\"param_randomforestclassifier__max_depth\"] == 10\n",
    "# Plot fit time vs n_estimators\n",
    "plt.plot(\n",
    "    cv_results[mask][\"param_randomforestclassifier__n_estimators\"],\n",
    "    cv_results[mask][\"mean_fit_time\"]\n",
    ")\n",
    "# Label axes\n",
    "plt.xlabel(\"Number of Estimators\")\n",
    "plt.ylabel(\"Mean Fit Time [seconds]\")\n",
    "plt.title(\"Training Time vs Estimators (max_depth=10)\");"
   ]
  },
  {
   "cell_type": "code",
   "execution_count": 36,
   "id": "9057d783-6c94-4788-9c4f-ce95e23e3e3d",
   "metadata": {},
   "outputs": [
    {
     "data": {
      "image/png": "[encoded data removed]",
      "text/plain": [
       "<Figure size 640x480 with 1 Axes>"
      ]
     },
     "metadata": {},
     "output_type": "display_data"
    }
   ],
   "source": [
    "# Create mask\n",
    "mask = cv_results[\"param_randomforestclassifier__n_estimators\"] == 75\n",
    "# Plot fit time vs max_depth\n",
    "plt.plot(\n",
    "    cv_results[mask][\"param_randomforestclassifier__max_depth\"],\n",
    "    cv_results[mask][\"mean_fit_time\"]\n",
    "\n",
    ")\n",
    "# Label axes\n",
    "plt.xlabel(\"Max Depth\")\n",
    "plt.ylabel(\"Mean Fit Time [seconds]\")\n",
    "plt.title(\"Training Time vs Max Depth (n_estimators=75)\");"
   ]
  },
  {
   "cell_type": "code",
   "execution_count": 37,
   "id": "262ee814-0e8a-4822-9c84-ad275a6490d1",
   "metadata": {},
   "outputs": [
    {
     "data": {
      "text/plain": [
       "0.7443397979934481"
      ]
     },
     "execution_count": 37,
     "metadata": {},
     "output_type": "execute_result"
    }
   ],
   "source": [
    "model.best_score_"
   ]
  },
  {
   "cell_type": "code",
   "execution_count": 38,
   "id": "799fe15c-8435-4ee1-9c20-f7e980efd98d",
   "metadata": {},
   "outputs": [
    {
     "data": {
      "text/html": [
       "<style>#sk-container-id-3 {color: black;background-color: white;}#sk-container-id-3 pre{padding: 0;}#sk-container-id-3 div.sk-toggleable {background-color: white;}#sk-container-id-3 label.sk-toggleable__label {cursor: pointer;display: block;width: 100%;margin-bottom: 0;padding: 0.3em;box-sizing: border-box;text-align: center;}#sk-container-id-3 label.sk-toggleable__label-arrow:before {content: \"▸\";float: left;margin-right: 0.25em;color: #696969;}#sk-container-id-3 label.sk-toggleable__label-arrow:hover:before {color: black;}#sk-container-id-3 div.sk-estimator:hover label.sk-toggleable__label-arrow:before {color: black;}#sk-container-id-3 div.sk-toggleable__content {max-height: 0;max-width: 0;overflow: hidden;text-align: left;background-color: #f0f8ff;}#sk-container-id-3 div.sk-toggleable__content pre {margin: 0.2em;color: black;border-radius: 0.25em;background-color: #f0f8ff;}#sk-container-id-3 input.sk-toggleable__control:checked~div.sk-toggleable__content {max-height: 200px;max-width: 100%;overflow: auto;}#sk-container-id-3 input.sk-toggleable__control:checked~label.sk-toggleable__label-arrow:before {content: \"▾\";}#sk-container-id-3 div.sk-estimator input.sk-toggleable__control:checked~label.sk-toggleable__label {background-color: #d4ebff;}#sk-container-id-3 div.sk-label input.sk-toggleable__control:checked~label.sk-toggleable__label {background-color: #d4ebff;}#sk-container-id-3 input.sk-hidden--visually {border: 0;clip: rect(1px 1px 1px 1px);clip: rect(1px, 1px, 1px, 1px);height: 1px;margin: -1px;overflow: hidden;padding: 0;position: absolute;width: 1px;}#sk-container-id-3 div.sk-estimator {font-family: monospace;background-color: #f0f8ff;border: 1px dotted black;border-radius: 0.25em;box-sizing: border-box;margin-bottom: 0.5em;}#sk-container-id-3 div.sk-estimator:hover {background-color: #d4ebff;}#sk-container-id-3 div.sk-parallel-item::after {content: \"\";width: 100%;border-bottom: 1px solid gray;flex-grow: 1;}#sk-container-id-3 div.sk-label:hover label.sk-toggleable__label {background-color: #d4ebff;}#sk-container-id-3 div.sk-serial::before {content: \"\";position: absolute;border-left: 1px solid gray;box-sizing: border-box;top: 0;bottom: 0;left: 50%;z-index: 0;}#sk-container-id-3 div.sk-serial {display: flex;flex-direction: column;align-items: center;background-color: white;padding-right: 0.2em;padding-left: 0.2em;position: relative;}#sk-container-id-3 div.sk-item {position: relative;z-index: 1;}#sk-container-id-3 div.sk-parallel {display: flex;align-items: stretch;justify-content: center;background-color: white;position: relative;}#sk-container-id-3 div.sk-item::before, #sk-container-id-3 div.sk-parallel-item::before {content: \"\";position: absolute;border-left: 1px solid gray;box-sizing: border-box;top: 0;bottom: 0;left: 50%;z-index: -1;}#sk-container-id-3 div.sk-parallel-item {display: flex;flex-direction: column;z-index: 1;position: relative;background-color: white;}#sk-container-id-3 div.sk-parallel-item:first-child::after {align-self: flex-end;width: 50%;}#sk-container-id-3 div.sk-parallel-item:last-child::after {align-self: flex-start;width: 50%;}#sk-container-id-3 div.sk-parallel-item:only-child::after {width: 0;}#sk-container-id-3 div.sk-dashed-wrapped {border: 1px dashed gray;margin: 0 0.4em 0.5em 0.4em;box-sizing: border-box;padding-bottom: 0.4em;background-color: white;}#sk-container-id-3 div.sk-label label {font-family: monospace;font-weight: bold;display: inline-block;line-height: 1.2em;}#sk-container-id-3 div.sk-label-container {text-align: center;}#sk-container-id-3 div.sk-container {/* jupyter's `normalize.less` sets `[hidden] { display: none; }` but bootstrap.min.css set `[hidden] { display: none !important; }` so we also need the `!important` here to be able to override the default hidden behavior on the sphinx rendered scikit-learn.org. See: https://github.com/scikit-learn/scikit-learn/issues/21755 */display: inline-block !important;position: relative;}#sk-container-id-3 div.sk-text-repr-fallback {display: none;}</style><div id=\"sk-container-id-3\" class=\"sk-top-container\"><div class=\"sk-text-repr-fallback\"><pre>Pipeline(steps=[(&#x27;simpleimputer&#x27;, SimpleImputer()),\n",
       "                (&#x27;randomforestclassifier&#x27;,\n",
       "                 RandomForestClassifier(max_depth=10, n_estimators=75,\n",
       "                                        random_state=42))])</pre><b>In a Jupyter environment, please rerun this cell to show the HTML representation or trust the notebook. <br />On GitHub, the HTML representation is unable to render, please try loading this page with nbviewer.org.</b></div><div class=\"sk-container\" hidden><div class=\"sk-item sk-dashed-wrapped\"><div class=\"sk-label-container\"><div class=\"sk-label sk-toggleable\"><input class=\"sk-toggleable__control sk-hidden--visually\" id=\"sk-estimator-id-9\" type=\"checkbox\" ><label for=\"sk-estimator-id-9\" class=\"sk-toggleable__label sk-toggleable__label-arrow\">Pipeline</label><div class=\"sk-toggleable__content\"><pre>Pipeline(steps=[(&#x27;simpleimputer&#x27;, SimpleImputer()),\n",
       "                (&#x27;randomforestclassifier&#x27;,\n",
       "                 RandomForestClassifier(max_depth=10, n_estimators=75,\n",
       "                                        random_state=42))])</pre></div></div></div><div class=\"sk-serial\"><div class=\"sk-item\"><div class=\"sk-estimator sk-toggleable\"><input class=\"sk-toggleable__control sk-hidden--visually\" id=\"sk-estimator-id-10\" type=\"checkbox\" ><label for=\"sk-estimator-id-10\" class=\"sk-toggleable__label sk-toggleable__label-arrow\">SimpleImputer</label><div class=\"sk-toggleable__content\"><pre>SimpleImputer()</pre></div></div></div><div class=\"sk-item\"><div class=\"sk-estimator sk-toggleable\"><input class=\"sk-toggleable__control sk-hidden--visually\" id=\"sk-estimator-id-11\" type=\"checkbox\" ><label for=\"sk-estimator-id-11\" class=\"sk-toggleable__label sk-toggleable__label-arrow\">RandomForestClassifier</label><div class=\"sk-toggleable__content\"><pre>RandomForestClassifier(max_depth=10, n_estimators=75, random_state=42)</pre></div></div></div></div></div></div></div>"
      ],
      "text/plain": [
       "Pipeline(steps=[('simpleimputer', SimpleImputer()),\n",
       "                ('randomforestclassifier',\n",
       "                 RandomForestClassifier(max_depth=10, n_estimators=75,\n",
       "                                        random_state=42))])"
      ]
     },
     "execution_count": 38,
     "metadata": {},
     "output_type": "execute_result"
    }
   ],
   "source": [
    "# Extract best hyperparameters\n",
    "model.best_estimator_"
   ]
  },
  {
   "cell_type": "code",
   "execution_count": 39,
   "id": "c22b5386-58ca-47e0-bddf-6efc24322934",
   "metadata": {},
   "outputs": [
    {
     "name": "stdout",
     "output_type": "stream",
     "text": [
      "Training Accuracy: 0.7678\n",
      "Test Accuracy: 0.7414\n"
     ]
    }
   ],
   "source": [
    "acc_train = model.score(X_train, y_train)\n",
    "acc_test = model.score(X_test, y_test)\n",
    "\n",
    "print(\"Training Accuracy:\", round(acc_train, 4))\n",
    "print(\"Test Accuracy:\", round(acc_test, 4))"
   ]
  },
  {
   "cell_type": "code",
   "execution_count": 40,
   "id": "f5d90a6e-5c29-4a86-894a-0dd5762d5cb1",
   "metadata": {},
   "outputs": [
    {
     "data": {
      "text/plain": [
       "<sklearn.metrics._plot.confusion_matrix.ConfusionMatrixDisplay at 0x7fef4aef18e0>"
      ]
     },
     "execution_count": 40,
     "metadata": {},
     "output_type": "execute_result"
    },
    {
     "data": {
      "image/png": "[encoded data removed]",
      "text/plain": [
       "<Figure size 640x480 with 2 Axes>"
      ]
     },
     "metadata": {},
     "output_type": "display_data"
    }
   ],
   "source": [
    "# Plot confusion matrix\n",
    "ConfusionMatrixDisplay.from_estimator(model, X_test, y_test)"
   ]
  },
  {
   "cell_type": "code",
   "execution_count": 42,
   "id": "dbe01517-c4c0-4086-a8d5-8c583b6a7274",
   "metadata": {},
   "outputs": [
    {
     "data": {
      "image/png": "[encoded data removed]",
      "text/plain": [
       "<Figure size 640x480 with 1 Axes>"
      ]
     },
     "metadata": {},
     "output_type": "display_data"
    }
   ],
   "source": [
    "# Get feature names from training data\n",
    "features = X_train.columns\n",
    "# Extract importances from model\n",
    "importances = model.best_estimator_.named_steps[\"randomforestclassifier\"].feature_importances_\n",
    "# Create a series with feature names and importances\n",
    "feat_imp = pd.Series(importances, index=features).sort_values()\n",
    "# Plot 10 most important features\n",
    "feat_imp.tail(10).plot(kind=\"barh\")\n",
    "plt.xlabel(\"Gini Importance\")\n",
    "plt.ylabel(\"Feature\")\n",
    "plt.title(\"Feature Importance\");"
   ]
  },
  {
   "cell_type": "code",
   "execution_count": 43,
   "id": "8a2adb7f-d2e8-4db9-83c7-239b77141fff",
   "metadata": {},
   "outputs": [],
   "source": [
    "# Save model\n",
    "with open(\"../models/model_rf.pkl\", \"wb\") as f:\n",
    "    pickle.dump(model, f)"
   ]
  },
  {
   "cell_type": "code",
   "execution_count": 53,
   "id": "4b1c3b40-3e2a-4166-b5b7-bfbd0c1d1090",
   "metadata": {},
   "outputs": [
    {
     "data": {
      "text/html": [
       "<style>#sk-container-id-7 {color: black;background-color: white;}#sk-container-id-7 pre{padding: 0;}#sk-container-id-7 div.sk-toggleable {background-color: white;}#sk-container-id-7 label.sk-toggleable__label {cursor: pointer;display: block;width: 100%;margin-bottom: 0;padding: 0.3em;box-sizing: border-box;text-align: center;}#sk-container-id-7 label.sk-toggleable__label-arrow:before {content: \"▸\";float: left;margin-right: 0.25em;color: #696969;}#sk-container-id-7 label.sk-toggleable__label-arrow:hover:before {color: black;}#sk-container-id-7 div.sk-estimator:hover label.sk-toggleable__label-arrow:before {color: black;}#sk-container-id-7 div.sk-toggleable__content {max-height: 0;max-width: 0;overflow: hidden;text-align: left;background-color: #f0f8ff;}#sk-container-id-7 div.sk-toggleable__content pre {margin: 0.2em;color: black;border-radius: 0.25em;background-color: #f0f8ff;}#sk-container-id-7 input.sk-toggleable__control:checked~div.sk-toggleable__content {max-height: 200px;max-width: 100%;overflow: auto;}#sk-container-id-7 input.sk-toggleable__control:checked~label.sk-toggleable__label-arrow:before {content: \"▾\";}#sk-container-id-7 div.sk-estimator input.sk-toggleable__control:checked~label.sk-toggleable__label {background-color: #d4ebff;}#sk-container-id-7 div.sk-label input.sk-toggleable__control:checked~label.sk-toggleable__label {background-color: #d4ebff;}#sk-container-id-7 input.sk-hidden--visually {border: 0;clip: rect(1px 1px 1px 1px);clip: rect(1px, 1px, 1px, 1px);height: 1px;margin: -1px;overflow: hidden;padding: 0;position: absolute;width: 1px;}#sk-container-id-7 div.sk-estimator {font-family: monospace;background-color: #f0f8ff;border: 1px dotted black;border-radius: 0.25em;box-sizing: border-box;margin-bottom: 0.5em;}#sk-container-id-7 div.sk-estimator:hover {background-color: #d4ebff;}#sk-container-id-7 div.sk-parallel-item::after {content: \"\";width: 100%;border-bottom: 1px solid gray;flex-grow: 1;}#sk-container-id-7 div.sk-label:hover label.sk-toggleable__label {background-color: #d4ebff;}#sk-container-id-7 div.sk-serial::before {content: \"\";position: absolute;border-left: 1px solid gray;box-sizing: border-box;top: 0;bottom: 0;left: 50%;z-index: 0;}#sk-container-id-7 div.sk-serial {display: flex;flex-direction: column;align-items: center;background-color: white;padding-right: 0.2em;padding-left: 0.2em;position: relative;}#sk-container-id-7 div.sk-item {position: relative;z-index: 1;}#sk-container-id-7 div.sk-parallel {display: flex;align-items: stretch;justify-content: center;background-color: white;position: relative;}#sk-container-id-7 div.sk-item::before, #sk-container-id-7 div.sk-parallel-item::before {content: \"\";position: absolute;border-left: 1px solid gray;box-sizing: border-box;top: 0;bottom: 0;left: 50%;z-index: -1;}#sk-container-id-7 div.sk-parallel-item {display: flex;flex-direction: column;z-index: 1;position: relative;background-color: white;}#sk-container-id-7 div.sk-parallel-item:first-child::after {align-self: flex-end;width: 50%;}#sk-container-id-7 div.sk-parallel-item:last-child::after {align-self: flex-start;width: 50%;}#sk-container-id-7 div.sk-parallel-item:only-child::after {width: 0;}#sk-container-id-7 div.sk-dashed-wrapped {border: 1px dashed gray;margin: 0 0.4em 0.5em 0.4em;box-sizing: border-box;padding-bottom: 0.4em;background-color: white;}#sk-container-id-7 div.sk-label label {font-family: monospace;font-weight: bold;display: inline-block;line-height: 1.2em;}#sk-container-id-7 div.sk-label-container {text-align: center;}#sk-container-id-7 div.sk-container {/* jupyter's `normalize.less` sets `[hidden] { display: none; }` but bootstrap.min.css set `[hidden] { display: none !important; }` so we also need the `!important` here to be able to override the default hidden behavior on the sphinx rendered scikit-learn.org. See: https://github.com/scikit-learn/scikit-learn/issues/21755 */display: inline-block !important;position: relative;}#sk-container-id-7 div.sk-text-repr-fallback {display: none;}</style><div id=\"sk-container-id-7\" class=\"sk-top-container\"><div class=\"sk-text-repr-fallback\"><pre>Pipeline(steps=[(&#x27;simpleimputer&#x27;, SimpleImputer()),\n",
       "                (&#x27;gradientboostingclassifier&#x27;, GradientBoostingClassifier())])</pre><b>In a Jupyter environment, please rerun this cell to show the HTML representation or trust the notebook. <br />On GitHub, the HTML representation is unable to render, please try loading this page with nbviewer.org.</b></div><div class=\"sk-container\" hidden><div class=\"sk-item sk-dashed-wrapped\"><div class=\"sk-label-container\"><div class=\"sk-label sk-toggleable\"><input class=\"sk-toggleable__control sk-hidden--visually\" id=\"sk-estimator-id-22\" type=\"checkbox\" ><label for=\"sk-estimator-id-22\" class=\"sk-toggleable__label sk-toggleable__label-arrow\">Pipeline</label><div class=\"sk-toggleable__content\"><pre>Pipeline(steps=[(&#x27;simpleimputer&#x27;, SimpleImputer()),\n",
       "                (&#x27;gradientboostingclassifier&#x27;, GradientBoostingClassifier())])</pre></div></div></div><div class=\"sk-serial\"><div class=\"sk-item\"><div class=\"sk-estimator sk-toggleable\"><input class=\"sk-toggleable__control sk-hidden--visually\" id=\"sk-estimator-id-23\" type=\"checkbox\" ><label for=\"sk-estimator-id-23\" class=\"sk-toggleable__label sk-toggleable__label-arrow\">SimpleImputer</label><div class=\"sk-toggleable__content\"><pre>SimpleImputer()</pre></div></div></div><div class=\"sk-item\"><div class=\"sk-estimator sk-toggleable\"><input class=\"sk-toggleable__control sk-hidden--visually\" id=\"sk-estimator-id-24\" type=\"checkbox\" ><label for=\"sk-estimator-id-24\" class=\"sk-toggleable__label sk-toggleable__label-arrow\">GradientBoostingClassifier</label><div class=\"sk-toggleable__content\"><pre>GradientBoostingClassifier()</pre></div></div></div></div></div></div></div>"
      ],
      "text/plain": [
       "Pipeline(steps=[('simpleimputer', SimpleImputer()),\n",
       "                ('gradientboostingclassifier', GradientBoostingClassifier())])"
      ]
     },
     "execution_count": 53,
     "metadata": {},
     "output_type": "execute_result"
    }
   ],
   "source": [
    "clf = make_pipeline(\n",
    "    SimpleImputer(),\n",
    "    GradientBoostingClassifier()\n",
    ")\n",
    "clf"
   ]
  },
  {
   "cell_type": "code",
   "execution_count": 54,
   "id": "c7566af4-fd88-4932-ab06-d0c8f3aea255",
   "metadata": {},
   "outputs": [
    {
     "data": {
      "text/plain": [
       "{'simpleimputer__strategy': ['mean', 'median'],\n",
       " 'gradientboostingclassifier__max_depth': range(2, 5),\n",
       " 'gradientboostingclassifier__n_estimators': range(20, 31, 5)}"
      ]
     },
     "execution_count": 54,
     "metadata": {},
     "output_type": "execute_result"
    }
   ],
   "source": [
    "params = {\n",
    "    \"simpleimputer__strategy\": [\"mean\", \"median\"],\n",
    "    \"gradientboostingclassifier__max_depth\": range(2, 5),\n",
    "    \"gradientboostingclassifier__n_estimators\": range(20, 31, 5)\n",
    "}\n",
    "params"
   ]
  },
  {
   "cell_type": "code",
   "execution_count": 55,
   "id": "41d453dc-ab2c-4162-a9f1-6dab93cdbd38",
   "metadata": {},
   "outputs": [
    {
     "data": {
      "text/html": [
       "<style>#sk-container-id-8 {color: black;background-color: white;}#sk-container-id-8 pre{padding: 0;}#sk-container-id-8 div.sk-toggleable {background-color: white;}#sk-container-id-8 label.sk-toggleable__label {cursor: pointer;display: block;width: 100%;margin-bottom: 0;padding: 0.3em;box-sizing: border-box;text-align: center;}#sk-container-id-8 label.sk-toggleable__label-arrow:before {content: \"▸\";float: left;margin-right: 0.25em;color: #696969;}#sk-container-id-8 label.sk-toggleable__label-arrow:hover:before {color: black;}#sk-container-id-8 div.sk-estimator:hover label.sk-toggleable__label-arrow:before {color: black;}#sk-container-id-8 div.sk-toggleable__content {max-height: 0;max-width: 0;overflow: hidden;text-align: left;background-color: #f0f8ff;}#sk-container-id-8 div.sk-toggleable__content pre {margin: 0.2em;color: black;border-radius: 0.25em;background-color: #f0f8ff;}#sk-container-id-8 input.sk-toggleable__control:checked~div.sk-toggleable__content {max-height: 200px;max-width: 100%;overflow: auto;}#sk-container-id-8 input.sk-toggleable__control:checked~label.sk-toggleable__label-arrow:before {content: \"▾\";}#sk-container-id-8 div.sk-estimator input.sk-toggleable__control:checked~label.sk-toggleable__label {background-color: #d4ebff;}#sk-container-id-8 div.sk-label input.sk-toggleable__control:checked~label.sk-toggleable__label {background-color: #d4ebff;}#sk-container-id-8 input.sk-hidden--visually {border: 0;clip: rect(1px 1px 1px 1px);clip: rect(1px, 1px, 1px, 1px);height: 1px;margin: -1px;overflow: hidden;padding: 0;position: absolute;width: 1px;}#sk-container-id-8 div.sk-estimator {font-family: monospace;background-color: #f0f8ff;border: 1px dotted black;border-radius: 0.25em;box-sizing: border-box;margin-bottom: 0.5em;}#sk-container-id-8 div.sk-estimator:hover {background-color: #d4ebff;}#sk-container-id-8 div.sk-parallel-item::after {content: \"\";width: 100%;border-bottom: 1px solid gray;flex-grow: 1;}#sk-container-id-8 div.sk-label:hover label.sk-toggleable__label {background-color: #d4ebff;}#sk-container-id-8 div.sk-serial::before {content: \"\";position: absolute;border-left: 1px solid gray;box-sizing: border-box;top: 0;bottom: 0;left: 50%;z-index: 0;}#sk-container-id-8 div.sk-serial {display: flex;flex-direction: column;align-items: center;background-color: white;padding-right: 0.2em;padding-left: 0.2em;position: relative;}#sk-container-id-8 div.sk-item {position: relative;z-index: 1;}#sk-container-id-8 div.sk-parallel {display: flex;align-items: stretch;justify-content: center;background-color: white;position: relative;}#sk-container-id-8 div.sk-item::before, #sk-container-id-8 div.sk-parallel-item::before {content: \"\";position: absolute;border-left: 1px solid gray;box-sizing: border-box;top: 0;bottom: 0;left: 50%;z-index: -1;}#sk-container-id-8 div.sk-parallel-item {display: flex;flex-direction: column;z-index: 1;position: relative;background-color: white;}#sk-container-id-8 div.sk-parallel-item:first-child::after {align-self: flex-end;width: 50%;}#sk-container-id-8 div.sk-parallel-item:last-child::after {align-self: flex-start;width: 50%;}#sk-container-id-8 div.sk-parallel-item:only-child::after {width: 0;}#sk-container-id-8 div.sk-dashed-wrapped {border: 1px dashed gray;margin: 0 0.4em 0.5em 0.4em;box-sizing: border-box;padding-bottom: 0.4em;background-color: white;}#sk-container-id-8 div.sk-label label {font-family: monospace;font-weight: bold;display: inline-block;line-height: 1.2em;}#sk-container-id-8 div.sk-label-container {text-align: center;}#sk-container-id-8 div.sk-container {/* jupyter's `normalize.less` sets `[hidden] { display: none; }` but bootstrap.min.css set `[hidden] { display: none !important; }` so we also need the `!important` here to be able to override the default hidden behavior on the sphinx rendered scikit-learn.org. See: https://github.com/scikit-learn/scikit-learn/issues/21755 */display: inline-block !important;position: relative;}#sk-container-id-8 div.sk-text-repr-fallback {display: none;}</style><div id=\"sk-container-id-8\" class=\"sk-top-container\"><div class=\"sk-text-repr-fallback\"><pre>GridSearchCV(cv=5,\n",
       "             estimator=Pipeline(steps=[(&#x27;simpleimputer&#x27;, SimpleImputer()),\n",
       "                                       (&#x27;gradientboostingclassifier&#x27;,\n",
       "                                        GradientBoostingClassifier())]),\n",
       "             n_jobs=-1,\n",
       "             param_grid={&#x27;gradientboostingclassifier__max_depth&#x27;: range(2, 5),\n",
       "                         &#x27;gradientboostingclassifier__n_estimators&#x27;: range(20, 31, 5),\n",
       "                         &#x27;simpleimputer__strategy&#x27;: [&#x27;mean&#x27;, &#x27;median&#x27;]},\n",
       "             verbose=1)</pre><b>In a Jupyter environment, please rerun this cell to show the HTML representation or trust the notebook. <br />On GitHub, the HTML representation is unable to render, please try loading this page with nbviewer.org.</b></div><div class=\"sk-container\" hidden><div class=\"sk-item sk-dashed-wrapped\"><div class=\"sk-label-container\"><div class=\"sk-label sk-toggleable\"><input class=\"sk-toggleable__control sk-hidden--visually\" id=\"sk-estimator-id-25\" type=\"checkbox\" ><label for=\"sk-estimator-id-25\" class=\"sk-toggleable__label sk-toggleable__label-arrow\">GridSearchCV</label><div class=\"sk-toggleable__content\"><pre>GridSearchCV(cv=5,\n",
       "             estimator=Pipeline(steps=[(&#x27;simpleimputer&#x27;, SimpleImputer()),\n",
       "                                       (&#x27;gradientboostingclassifier&#x27;,\n",
       "                                        GradientBoostingClassifier())]),\n",
       "             n_jobs=-1,\n",
       "             param_grid={&#x27;gradientboostingclassifier__max_depth&#x27;: range(2, 5),\n",
       "                         &#x27;gradientboostingclassifier__n_estimators&#x27;: range(20, 31, 5),\n",
       "                         &#x27;simpleimputer__strategy&#x27;: [&#x27;mean&#x27;, &#x27;median&#x27;]},\n",
       "             verbose=1)</pre></div></div></div><div class=\"sk-parallel\"><div class=\"sk-parallel-item\"><div class=\"sk-item\"><div class=\"sk-label-container\"><div class=\"sk-label sk-toggleable\"><input class=\"sk-toggleable__control sk-hidden--visually\" id=\"sk-estimator-id-26\" type=\"checkbox\" ><label for=\"sk-estimator-id-26\" class=\"sk-toggleable__label sk-toggleable__label-arrow\">estimator: Pipeline</label><div class=\"sk-toggleable__content\"><pre>Pipeline(steps=[(&#x27;simpleimputer&#x27;, SimpleImputer()),\n",
       "                (&#x27;gradientboostingclassifier&#x27;, GradientBoostingClassifier())])</pre></div></div></div><div class=\"sk-serial\"><div class=\"sk-item\"><div class=\"sk-serial\"><div class=\"sk-item\"><div class=\"sk-estimator sk-toggleable\"><input class=\"sk-toggleable__control sk-hidden--visually\" id=\"sk-estimator-id-27\" type=\"checkbox\" ><label for=\"sk-estimator-id-27\" class=\"sk-toggleable__label sk-toggleable__label-arrow\">SimpleImputer</label><div class=\"sk-toggleable__content\"><pre>SimpleImputer()</pre></div></div></div><div class=\"sk-item\"><div class=\"sk-estimator sk-toggleable\"><input class=\"sk-toggleable__control sk-hidden--visually\" id=\"sk-estimator-id-28\" type=\"checkbox\" ><label for=\"sk-estimator-id-28\" class=\"sk-toggleable__label sk-toggleable__label-arrow\">GradientBoostingClassifier</label><div class=\"sk-toggleable__content\"><pre>GradientBoostingClassifier()</pre></div></div></div></div></div></div></div></div></div></div></div></div>"
      ],
      "text/plain": [
       "GridSearchCV(cv=5,\n",
       "             estimator=Pipeline(steps=[('simpleimputer', SimpleImputer()),\n",
       "                                       ('gradientboostingclassifier',\n",
       "                                        GradientBoostingClassifier())]),\n",
       "             n_jobs=-1,\n",
       "             param_grid={'gradientboostingclassifier__max_depth': range(2, 5),\n",
       "                         'gradientboostingclassifier__n_estimators': range(20, 31, 5),\n",
       "                         'simpleimputer__strategy': ['mean', 'median']},\n",
       "             verbose=1)"
      ]
     },
     "execution_count": 55,
     "metadata": {},
     "output_type": "execute_result"
    }
   ],
   "source": [
    "model = GridSearchCV(clf, param_grid=params, cv=5, n_jobs=-1, verbose=1)\n",
    "model"
   ]
  },
  {
   "cell_type": "code",
   "execution_count": 56,
   "id": "5141806f-a0c3-45dd-a406-c2ceef72a3bd",
   "metadata": {},
   "outputs": [
    {
     "name": "stdout",
     "output_type": "stream",
     "text": [
      "Fitting 5 folds for each of 18 candidates, totalling 90 fits\n"
     ]
    },
    {
     "data": {
      "text/html": [
       "<style>#sk-container-id-9 {color: black;background-color: white;}#sk-container-id-9 pre{padding: 0;}#sk-container-id-9 div.sk-toggleable {background-color: white;}#sk-container-id-9 label.sk-toggleable__label {cursor: pointer;display: block;width: 100%;margin-bottom: 0;padding: 0.3em;box-sizing: border-box;text-align: center;}#sk-container-id-9 label.sk-toggleable__label-arrow:before {content: \"▸\";float: left;margin-right: 0.25em;color: #696969;}#sk-container-id-9 label.sk-toggleable__label-arrow:hover:before {color: black;}#sk-container-id-9 div.sk-estimator:hover label.sk-toggleable__label-arrow:before {color: black;}#sk-container-id-9 div.sk-toggleable__content {max-height: 0;max-width: 0;overflow: hidden;text-align: left;background-color: #f0f8ff;}#sk-container-id-9 div.sk-toggleable__content pre {margin: 0.2em;color: black;border-radius: 0.25em;background-color: #f0f8ff;}#sk-container-id-9 input.sk-toggleable__control:checked~div.sk-toggleable__content {max-height: 200px;max-width: 100%;overflow: auto;}#sk-container-id-9 input.sk-toggleable__control:checked~label.sk-toggleable__label-arrow:before {content: \"▾\";}#sk-container-id-9 div.sk-estimator input.sk-toggleable__control:checked~label.sk-toggleable__label {background-color: #d4ebff;}#sk-container-id-9 div.sk-label input.sk-toggleable__control:checked~label.sk-toggleable__label {background-color: #d4ebff;}#sk-container-id-9 input.sk-hidden--visually {border: 0;clip: rect(1px 1px 1px 1px);clip: rect(1px, 1px, 1px, 1px);height: 1px;margin: -1px;overflow: hidden;padding: 0;position: absolute;width: 1px;}#sk-container-id-9 div.sk-estimator {font-family: monospace;background-color: #f0f8ff;border: 1px dotted black;border-radius: 0.25em;box-sizing: border-box;margin-bottom: 0.5em;}#sk-container-id-9 div.sk-estimator:hover {background-color: #d4ebff;}#sk-container-id-9 div.sk-parallel-item::after {content: \"\";width: 100%;border-bottom: 1px solid gray;flex-grow: 1;}#sk-container-id-9 div.sk-label:hover label.sk-toggleable__label {background-color: #d4ebff;}#sk-container-id-9 div.sk-serial::before {content: \"\";position: absolute;border-left: 1px solid gray;box-sizing: border-box;top: 0;bottom: 0;left: 50%;z-index: 0;}#sk-container-id-9 div.sk-serial {display: flex;flex-direction: column;align-items: center;background-color: white;padding-right: 0.2em;padding-left: 0.2em;position: relative;}#sk-container-id-9 div.sk-item {position: relative;z-index: 1;}#sk-container-id-9 div.sk-parallel {display: flex;align-items: stretch;justify-content: center;background-color: white;position: relative;}#sk-container-id-9 div.sk-item::before, #sk-container-id-9 div.sk-parallel-item::before {content: \"\";position: absolute;border-left: 1px solid gray;box-sizing: border-box;top: 0;bottom: 0;left: 50%;z-index: -1;}#sk-container-id-9 div.sk-parallel-item {display: flex;flex-direction: column;z-index: 1;position: relative;background-color: white;}#sk-container-id-9 div.sk-parallel-item:first-child::after {align-self: flex-end;width: 50%;}#sk-container-id-9 div.sk-parallel-item:last-child::after {align-self: flex-start;width: 50%;}#sk-container-id-9 div.sk-parallel-item:only-child::after {width: 0;}#sk-container-id-9 div.sk-dashed-wrapped {border: 1px dashed gray;margin: 0 0.4em 0.5em 0.4em;box-sizing: border-box;padding-bottom: 0.4em;background-color: white;}#sk-container-id-9 div.sk-label label {font-family: monospace;font-weight: bold;display: inline-block;line-height: 1.2em;}#sk-container-id-9 div.sk-label-container {text-align: center;}#sk-container-id-9 div.sk-container {/* jupyter's `normalize.less` sets `[hidden] { display: none; }` but bootstrap.min.css set `[hidden] { display: none !important; }` so we also need the `!important` here to be able to override the default hidden behavior on the sphinx rendered scikit-learn.org. See: https://github.com/scikit-learn/scikit-learn/issues/21755 */display: inline-block !important;position: relative;}#sk-container-id-9 div.sk-text-repr-fallback {display: none;}</style><div id=\"sk-container-id-9\" class=\"sk-top-container\"><div class=\"sk-text-repr-fallback\"><pre>GridSearchCV(cv=5,\n",
       "             estimator=Pipeline(steps=[(&#x27;simpleimputer&#x27;, SimpleImputer()),\n",
       "                                       (&#x27;gradientboostingclassifier&#x27;,\n",
       "                                        GradientBoostingClassifier())]),\n",
       "             n_jobs=-1,\n",
       "             param_grid={&#x27;gradientboostingclassifier__max_depth&#x27;: range(2, 5),\n",
       "                         &#x27;gradientboostingclassifier__n_estimators&#x27;: range(20, 31, 5),\n",
       "                         &#x27;simpleimputer__strategy&#x27;: [&#x27;mean&#x27;, &#x27;median&#x27;]},\n",
       "             verbose=1)</pre><b>In a Jupyter environment, please rerun this cell to show the HTML representation or trust the notebook. <br />On GitHub, the HTML representation is unable to render, please try loading this page with nbviewer.org.</b></div><div class=\"sk-container\" hidden><div class=\"sk-item sk-dashed-wrapped\"><div class=\"sk-label-container\"><div class=\"sk-label sk-toggleable\"><input class=\"sk-toggleable__control sk-hidden--visually\" id=\"sk-estimator-id-29\" type=\"checkbox\" ><label for=\"sk-estimator-id-29\" class=\"sk-toggleable__label sk-toggleable__label-arrow\">GridSearchCV</label><div class=\"sk-toggleable__content\"><pre>GridSearchCV(cv=5,\n",
       "             estimator=Pipeline(steps=[(&#x27;simpleimputer&#x27;, SimpleImputer()),\n",
       "                                       (&#x27;gradientboostingclassifier&#x27;,\n",
       "                                        GradientBoostingClassifier())]),\n",
       "             n_jobs=-1,\n",
       "             param_grid={&#x27;gradientboostingclassifier__max_depth&#x27;: range(2, 5),\n",
       "                         &#x27;gradientboostingclassifier__n_estimators&#x27;: range(20, 31, 5),\n",
       "                         &#x27;simpleimputer__strategy&#x27;: [&#x27;mean&#x27;, &#x27;median&#x27;]},\n",
       "             verbose=1)</pre></div></div></div><div class=\"sk-parallel\"><div class=\"sk-parallel-item\"><div class=\"sk-item\"><div class=\"sk-label-container\"><div class=\"sk-label sk-toggleable\"><input class=\"sk-toggleable__control sk-hidden--visually\" id=\"sk-estimator-id-30\" type=\"checkbox\" ><label for=\"sk-estimator-id-30\" class=\"sk-toggleable__label sk-toggleable__label-arrow\">estimator: Pipeline</label><div class=\"sk-toggleable__content\"><pre>Pipeline(steps=[(&#x27;simpleimputer&#x27;, SimpleImputer()),\n",
       "                (&#x27;gradientboostingclassifier&#x27;, GradientBoostingClassifier())])</pre></div></div></div><div class=\"sk-serial\"><div class=\"sk-item\"><div class=\"sk-serial\"><div class=\"sk-item\"><div class=\"sk-estimator sk-toggleable\"><input class=\"sk-toggleable__control sk-hidden--visually\" id=\"sk-estimator-id-31\" type=\"checkbox\" ><label for=\"sk-estimator-id-31\" class=\"sk-toggleable__label sk-toggleable__label-arrow\">SimpleImputer</label><div class=\"sk-toggleable__content\"><pre>SimpleImputer()</pre></div></div></div><div class=\"sk-item\"><div class=\"sk-estimator sk-toggleable\"><input class=\"sk-toggleable__control sk-hidden--visually\" id=\"sk-estimator-id-32\" type=\"checkbox\" ><label for=\"sk-estimator-id-32\" class=\"sk-toggleable__label sk-toggleable__label-arrow\">GradientBoostingClassifier</label><div class=\"sk-toggleable__content\"><pre>GradientBoostingClassifier()</pre></div></div></div></div></div></div></div></div></div></div></div></div>"
      ],
      "text/plain": [
       "GridSearchCV(cv=5,\n",
       "             estimator=Pipeline(steps=[('simpleimputer', SimpleImputer()),\n",
       "                                       ('gradientboostingclassifier',\n",
       "                                        GradientBoostingClassifier())]),\n",
       "             n_jobs=-1,\n",
       "             param_grid={'gradientboostingclassifier__max_depth': range(2, 5),\n",
       "                         'gradientboostingclassifier__n_estimators': range(20, 31, 5),\n",
       "                         'simpleimputer__strategy': ['mean', 'median']},\n",
       "             verbose=1)"
      ]
     },
     "execution_count": 56,
     "metadata": {},
     "output_type": "execute_result"
    }
   ],
   "source": [
    "# Fit model to over-sampled training data\n",
    "model.fit(X_train, y_train)"
   ]
  },
  {
   "cell_type": "code",
   "execution_count": 57,
   "id": "042bbc4b-b838-48a3-9658-76e3cb328611",
   "metadata": {},
   "outputs": [
    {
     "data": {
      "text/html": [
       "<div>\n",
       "<style scoped>\n",
       "    .dataframe tbody tr th:only-of-type {\n",
       "        vertical-align: middle;\n",
       "    }\n",
       "\n",
       "    .dataframe tbody tr th {\n",
       "        vertical-align: top;\n",
       "    }\n",
       "\n",
       "    .dataframe thead th {\n",
       "        text-align: right;\n",
       "    }\n",
       "</style>\n",
       "<table border=\"1\" class=\"dataframe\">\n",
       "  <thead>\n",
       "    <tr style=\"text-align: right;\">\n",
       "      <th></th>\n",
       "      <th>mean_fit_time</th>\n",
       "      <th>std_fit_time</th>\n",
       "      <th>mean_score_time</th>\n",
       "      <th>std_score_time</th>\n",
       "      <th>param_gradientboostingclassifier__max_depth</th>\n",
       "      <th>param_gradientboostingclassifier__n_estimators</th>\n",
       "      <th>param_simpleimputer__strategy</th>\n",
       "      <th>params</th>\n",
       "      <th>split0_test_score</th>\n",
       "      <th>split1_test_score</th>\n",
       "      <th>split2_test_score</th>\n",
       "      <th>split3_test_score</th>\n",
       "      <th>split4_test_score</th>\n",
       "      <th>mean_test_score</th>\n",
       "      <th>std_test_score</th>\n",
       "      <th>rank_test_score</th>\n",
       "    </tr>\n",
       "  </thead>\n",
       "  <tbody>\n",
       "    <tr>\n",
       "      <th>17</th>\n",
       "      <td>3.399816</td>\n",
       "      <td>0.573390</td>\n",
       "      <td>0.019664</td>\n",
       "      <td>0.000328</td>\n",
       "      <td>4</td>\n",
       "      <td>30</td>\n",
       "      <td>median</td>\n",
       "      <td>{'gradientboostingclassifier__max_depth': 4, '...</td>\n",
       "      <td>0.739434</td>\n",
       "      <td>0.743437</td>\n",
       "      <td>0.740086</td>\n",
       "      <td>0.743506</td>\n",
       "      <td>0.745089</td>\n",
       "      <td>0.742310</td>\n",
       "      <td>0.002175</td>\n",
       "      <td>1</td>\n",
       "    </tr>\n",
       "    <tr>\n",
       "      <th>16</th>\n",
       "      <td>4.169356</td>\n",
       "      <td>0.340530</td>\n",
       "      <td>0.026918</td>\n",
       "      <td>0.002637</td>\n",
       "      <td>4</td>\n",
       "      <td>30</td>\n",
       "      <td>mean</td>\n",
       "      <td>{'gradientboostingclassifier__max_depth': 4, '...</td>\n",
       "      <td>0.739434</td>\n",
       "      <td>0.743437</td>\n",
       "      <td>0.740086</td>\n",
       "      <td>0.743506</td>\n",
       "      <td>0.745089</td>\n",
       "      <td>0.742310</td>\n",
       "      <td>0.002175</td>\n",
       "      <td>1</td>\n",
       "    </tr>\n",
       "    <tr>\n",
       "      <th>11</th>\n",
       "      <td>4.363384</td>\n",
       "      <td>0.456865</td>\n",
       "      <td>0.036499</td>\n",
       "      <td>0.006498</td>\n",
       "      <td>3</td>\n",
       "      <td>30</td>\n",
       "      <td>median</td>\n",
       "      <td>{'gradientboostingclassifier__max_depth': 3, '...</td>\n",
       "      <td>0.739062</td>\n",
       "      <td>0.743158</td>\n",
       "      <td>0.737293</td>\n",
       "      <td>0.742203</td>\n",
       "      <td>0.744623</td>\n",
       "      <td>0.741268</td>\n",
       "      <td>0.002697</td>\n",
       "      <td>3</td>\n",
       "    </tr>\n",
       "    <tr>\n",
       "      <th>10</th>\n",
       "      <td>4.039262</td>\n",
       "      <td>0.372493</td>\n",
       "      <td>0.031680</td>\n",
       "      <td>0.006655</td>\n",
       "      <td>3</td>\n",
       "      <td>30</td>\n",
       "      <td>mean</td>\n",
       "      <td>{'gradientboostingclassifier__max_depth': 3, '...</td>\n",
       "      <td>0.739062</td>\n",
       "      <td>0.743158</td>\n",
       "      <td>0.737293</td>\n",
       "      <td>0.742203</td>\n",
       "      <td>0.744623</td>\n",
       "      <td>0.741268</td>\n",
       "      <td>0.002697</td>\n",
       "      <td>3</td>\n",
       "    </tr>\n",
       "    <tr>\n",
       "      <th>15</th>\n",
       "      <td>4.290723</td>\n",
       "      <td>0.261009</td>\n",
       "      <td>0.030146</td>\n",
       "      <td>0.005685</td>\n",
       "      <td>4</td>\n",
       "      <td>25</td>\n",
       "      <td>median</td>\n",
       "      <td>{'gradientboostingclassifier__max_depth': 4, '...</td>\n",
       "      <td>0.738224</td>\n",
       "      <td>0.743623</td>\n",
       "      <td>0.739899</td>\n",
       "      <td>0.742575</td>\n",
       "      <td>0.742017</td>\n",
       "      <td>0.741268</td>\n",
       "      <td>0.001947</td>\n",
       "      <td>5</td>\n",
       "    </tr>\n",
       "    <tr>\n",
       "      <th>14</th>\n",
       "      <td>4.460074</td>\n",
       "      <td>0.361322</td>\n",
       "      <td>0.036684</td>\n",
       "      <td>0.015701</td>\n",
       "      <td>4</td>\n",
       "      <td>25</td>\n",
       "      <td>mean</td>\n",
       "      <td>{'gradientboostingclassifier__max_depth': 4, '...</td>\n",
       "      <td>0.738224</td>\n",
       "      <td>0.743623</td>\n",
       "      <td>0.739899</td>\n",
       "      <td>0.742575</td>\n",
       "      <td>0.742017</td>\n",
       "      <td>0.741268</td>\n",
       "      <td>0.001947</td>\n",
       "      <td>5</td>\n",
       "    </tr>\n",
       "    <tr>\n",
       "      <th>9</th>\n",
       "      <td>3.620672</td>\n",
       "      <td>0.221869</td>\n",
       "      <td>0.037437</td>\n",
       "      <td>0.010299</td>\n",
       "      <td>3</td>\n",
       "      <td>25</td>\n",
       "      <td>median</td>\n",
       "      <td>{'gradientboostingclassifier__max_depth': 3, '...</td>\n",
       "      <td>0.738969</td>\n",
       "      <td>0.740458</td>\n",
       "      <td>0.737293</td>\n",
       "      <td>0.741272</td>\n",
       "      <td>0.741830</td>\n",
       "      <td>0.739964</td>\n",
       "      <td>0.001647</td>\n",
       "      <td>7</td>\n",
       "    </tr>\n",
       "    <tr>\n",
       "      <th>8</th>\n",
       "      <td>3.379950</td>\n",
       "      <td>0.251605</td>\n",
       "      <td>0.028873</td>\n",
       "      <td>0.004567</td>\n",
       "      <td>3</td>\n",
       "      <td>25</td>\n",
       "      <td>mean</td>\n",
       "      <td>{'gradientboostingclassifier__max_depth': 3, '...</td>\n",
       "      <td>0.738969</td>\n",
       "      <td>0.740458</td>\n",
       "      <td>0.737293</td>\n",
       "      <td>0.741272</td>\n",
       "      <td>0.741830</td>\n",
       "      <td>0.739964</td>\n",
       "      <td>0.001647</td>\n",
       "      <td>7</td>\n",
       "    </tr>\n",
       "    <tr>\n",
       "      <th>12</th>\n",
       "      <td>3.688954</td>\n",
       "      <td>0.388511</td>\n",
       "      <td>0.032130</td>\n",
       "      <td>0.011716</td>\n",
       "      <td>4</td>\n",
       "      <td>20</td>\n",
       "      <td>mean</td>\n",
       "      <td>{'gradientboostingclassifier__max_depth': 4, '...</td>\n",
       "      <td>0.737758</td>\n",
       "      <td>0.740644</td>\n",
       "      <td>0.737851</td>\n",
       "      <td>0.741737</td>\n",
       "      <td>0.738944</td>\n",
       "      <td>0.739387</td>\n",
       "      <td>0.001569</td>\n",
       "      <td>9</td>\n",
       "    </tr>\n",
       "    <tr>\n",
       "      <th>13</th>\n",
       "      <td>4.007536</td>\n",
       "      <td>0.145901</td>\n",
       "      <td>0.032047</td>\n",
       "      <td>0.003677</td>\n",
       "      <td>4</td>\n",
       "      <td>20</td>\n",
       "      <td>median</td>\n",
       "      <td>{'gradientboostingclassifier__max_depth': 4, '...</td>\n",
       "      <td>0.737758</td>\n",
       "      <td>0.740644</td>\n",
       "      <td>0.737851</td>\n",
       "      <td>0.741737</td>\n",
       "      <td>0.738944</td>\n",
       "      <td>0.739387</td>\n",
       "      <td>0.001569</td>\n",
       "      <td>9</td>\n",
       "    </tr>\n",
       "  </tbody>\n",
       "</table>\n",
       "</div>"
      ],
      "text/plain": [
       "    mean_fit_time  std_fit_time  mean_score_time  std_score_time  \\\n",
       "17       3.399816      0.573390         0.019664        0.000328   \n",
       "16       4.169356      0.340530         0.026918        0.002637   \n",
       "11       4.363384      0.456865         0.036499        0.006498   \n",
       "10       4.039262      0.372493         0.031680        0.006655   \n",
       "15       4.290723      0.261009         0.030146        0.005685   \n",
       "14       4.460074      0.361322         0.036684        0.015701   \n",
       "9        3.620672      0.221869         0.037437        0.010299   \n",
       "8        3.379950      0.251605         0.028873        0.004567   \n",
       "12       3.688954      0.388511         0.032130        0.011716   \n",
       "13       4.007536      0.145901         0.032047        0.003677   \n",
       "\n",
       "   param_gradientboostingclassifier__max_depth  \\\n",
       "17                                           4   \n",
       "16                                           4   \n",
       "11                                           3   \n",
       "10                                           3   \n",
       "15                                           4   \n",
       "14                                           4   \n",
       "9                                            3   \n",
       "8                                            3   \n",
       "12                                           4   \n",
       "13                                           4   \n",
       "\n",
       "   param_gradientboostingclassifier__n_estimators  \\\n",
       "17                                             30   \n",
       "16                                             30   \n",
       "11                                             30   \n",
       "10                                             30   \n",
       "15                                             25   \n",
       "14                                             25   \n",
       "9                                              25   \n",
       "8                                              25   \n",
       "12                                             20   \n",
       "13                                             20   \n",
       "\n",
       "   param_simpleimputer__strategy  \\\n",
       "17                        median   \n",
       "16                          mean   \n",
       "11                        median   \n",
       "10                          mean   \n",
       "15                        median   \n",
       "14                          mean   \n",
       "9                         median   \n",
       "8                           mean   \n",
       "12                          mean   \n",
       "13                        median   \n",
       "\n",
       "                                               params  split0_test_score  \\\n",
       "17  {'gradientboostingclassifier__max_depth': 4, '...           0.739434   \n",
       "16  {'gradientboostingclassifier__max_depth': 4, '...           0.739434   \n",
       "11  {'gradientboostingclassifier__max_depth': 3, '...           0.739062   \n",
       "10  {'gradientboostingclassifier__max_depth': 3, '...           0.739062   \n",
       "15  {'gradientboostingclassifier__max_depth': 4, '...           0.738224   \n",
       "14  {'gradientboostingclassifier__max_depth': 4, '...           0.738224   \n",
       "9   {'gradientboostingclassifier__max_depth': 3, '...           0.738969   \n",
       "8   {'gradientboostingclassifier__max_depth': 3, '...           0.738969   \n",
       "12  {'gradientboostingclassifier__max_depth': 4, '...           0.737758   \n",
       "13  {'gradientboostingclassifier__max_depth': 4, '...           0.737758   \n",
       "\n",
       "    split1_test_score  split2_test_score  split3_test_score  \\\n",
       "17           0.743437           0.740086           0.743506   \n",
       "16           0.743437           0.740086           0.743506   \n",
       "11           0.743158           0.737293           0.742203   \n",
       "10           0.743158           0.737293           0.742203   \n",
       "15           0.743623           0.739899           0.742575   \n",
       "14           0.743623           0.739899           0.742575   \n",
       "9            0.740458           0.737293           0.741272   \n",
       "8            0.740458           0.737293           0.741272   \n",
       "12           0.740644           0.737851           0.741737   \n",
       "13           0.740644           0.737851           0.741737   \n",
       "\n",
       "    split4_test_score  mean_test_score  std_test_score  rank_test_score  \n",
       "17           0.745089         0.742310        0.002175                1  \n",
       "16           0.745089         0.742310        0.002175                1  \n",
       "11           0.744623         0.741268        0.002697                3  \n",
       "10           0.744623         0.741268        0.002697                3  \n",
       "15           0.742017         0.741268        0.001947                5  \n",
       "14           0.742017         0.741268        0.001947                5  \n",
       "9            0.741830         0.739964        0.001647                7  \n",
       "8            0.741830         0.739964        0.001647                7  \n",
       "12           0.738944         0.739387        0.001569                9  \n",
       "13           0.738944         0.739387        0.001569                9  "
      ]
     },
     "execution_count": 57,
     "metadata": {},
     "output_type": "execute_result"
    }
   ],
   "source": [
    "results = pd.DataFrame(model.cv_results_)\n",
    "results.sort_values(\"rank_test_score\").head(10)"
   ]
  },
  {
   "cell_type": "code",
   "execution_count": 58,
   "id": "97e35c5a-ddc7-4bca-9564-a36aacd86ecf",
   "metadata": {},
   "outputs": [
    {
     "data": {
      "text/plain": [
       "{'gradientboostingclassifier__max_depth': 4,\n",
       " 'gradientboostingclassifier__n_estimators': 30,\n",
       " 'simpleimputer__strategy': 'mean'}"
      ]
     },
     "execution_count": 58,
     "metadata": {},
     "output_type": "execute_result"
    }
   ],
   "source": [
    "# Extract best hyperparameters\n",
    "model.best_params_"
   ]
  },
  {
   "cell_type": "code",
   "execution_count": 59,
   "id": "05bb7b72-2791-4763-9c14-07126e3e719c",
   "metadata": {},
   "outputs": [
    {
     "data": {
      "text/html": [
       "<style>#sk-container-id-10 {color: black;background-color: white;}#sk-container-id-10 pre{padding: 0;}#sk-container-id-10 div.sk-toggleable {background-color: white;}#sk-container-id-10 label.sk-toggleable__label {cursor: pointer;display: block;width: 100%;margin-bottom: 0;padding: 0.3em;box-sizing: border-box;text-align: center;}#sk-container-id-10 label.sk-toggleable__label-arrow:before {content: \"▸\";float: left;margin-right: 0.25em;color: #696969;}#sk-container-id-10 label.sk-toggleable__label-arrow:hover:before {color: black;}#sk-container-id-10 div.sk-estimator:hover label.sk-toggleable__label-arrow:before {color: black;}#sk-container-id-10 div.sk-toggleable__content {max-height: 0;max-width: 0;overflow: hidden;text-align: left;background-color: #f0f8ff;}#sk-container-id-10 div.sk-toggleable__content pre {margin: 0.2em;color: black;border-radius: 0.25em;background-color: #f0f8ff;}#sk-container-id-10 input.sk-toggleable__control:checked~div.sk-toggleable__content {max-height: 200px;max-width: 100%;overflow: auto;}#sk-container-id-10 input.sk-toggleable__control:checked~label.sk-toggleable__label-arrow:before {content: \"▾\";}#sk-container-id-10 div.sk-estimator input.sk-toggleable__control:checked~label.sk-toggleable__label {background-color: #d4ebff;}#sk-container-id-10 div.sk-label input.sk-toggleable__control:checked~label.sk-toggleable__label {background-color: #d4ebff;}#sk-container-id-10 input.sk-hidden--visually {border: 0;clip: rect(1px 1px 1px 1px);clip: rect(1px, 1px, 1px, 1px);height: 1px;margin: -1px;overflow: hidden;padding: 0;position: absolute;width: 1px;}#sk-container-id-10 div.sk-estimator {font-family: monospace;background-color: #f0f8ff;border: 1px dotted black;border-radius: 0.25em;box-sizing: border-box;margin-bottom: 0.5em;}#sk-container-id-10 div.sk-estimator:hover {background-color: #d4ebff;}#sk-container-id-10 div.sk-parallel-item::after {content: \"\";width: 100%;border-bottom: 1px solid gray;flex-grow: 1;}#sk-container-id-10 div.sk-label:hover label.sk-toggleable__label {background-color: #d4ebff;}#sk-container-id-10 div.sk-serial::before {content: \"\";position: absolute;border-left: 1px solid gray;box-sizing: border-box;top: 0;bottom: 0;left: 50%;z-index: 0;}#sk-container-id-10 div.sk-serial {display: flex;flex-direction: column;align-items: center;background-color: white;padding-right: 0.2em;padding-left: 0.2em;position: relative;}#sk-container-id-10 div.sk-item {position: relative;z-index: 1;}#sk-container-id-10 div.sk-parallel {display: flex;align-items: stretch;justify-content: center;background-color: white;position: relative;}#sk-container-id-10 div.sk-item::before, #sk-container-id-10 div.sk-parallel-item::before {content: \"\";position: absolute;border-left: 1px solid gray;box-sizing: border-box;top: 0;bottom: 0;left: 50%;z-index: -1;}#sk-container-id-10 div.sk-parallel-item {display: flex;flex-direction: column;z-index: 1;position: relative;background-color: white;}#sk-container-id-10 div.sk-parallel-item:first-child::after {align-self: flex-end;width: 50%;}#sk-container-id-10 div.sk-parallel-item:last-child::after {align-self: flex-start;width: 50%;}#sk-container-id-10 div.sk-parallel-item:only-child::after {width: 0;}#sk-container-id-10 div.sk-dashed-wrapped {border: 1px dashed gray;margin: 0 0.4em 0.5em 0.4em;box-sizing: border-box;padding-bottom: 0.4em;background-color: white;}#sk-container-id-10 div.sk-label label {font-family: monospace;font-weight: bold;display: inline-block;line-height: 1.2em;}#sk-container-id-10 div.sk-label-container {text-align: center;}#sk-container-id-10 div.sk-container {/* jupyter's `normalize.less` sets `[hidden] { display: none; }` but bootstrap.min.css set `[hidden] { display: none !important; }` so we also need the `!important` here to be able to override the default hidden behavior on the sphinx rendered scikit-learn.org. See: https://github.com/scikit-learn/scikit-learn/issues/21755 */display: inline-block !important;position: relative;}#sk-container-id-10 div.sk-text-repr-fallback {display: none;}</style><div id=\"sk-container-id-10\" class=\"sk-top-container\"><div class=\"sk-text-repr-fallback\"><pre>Pipeline(steps=[(&#x27;simpleimputer&#x27;, SimpleImputer()),\n",
       "                (&#x27;gradientboostingclassifier&#x27;,\n",
       "                 GradientBoostingClassifier(max_depth=4, n_estimators=30))])</pre><b>In a Jupyter environment, please rerun this cell to show the HTML representation or trust the notebook. <br />On GitHub, the HTML representation is unable to render, please try loading this page with nbviewer.org.</b></div><div class=\"sk-container\" hidden><div class=\"sk-item sk-dashed-wrapped\"><div class=\"sk-label-container\"><div class=\"sk-label sk-toggleable\"><input class=\"sk-toggleable__control sk-hidden--visually\" id=\"sk-estimator-id-33\" type=\"checkbox\" ><label for=\"sk-estimator-id-33\" class=\"sk-toggleable__label sk-toggleable__label-arrow\">Pipeline</label><div class=\"sk-toggleable__content\"><pre>Pipeline(steps=[(&#x27;simpleimputer&#x27;, SimpleImputer()),\n",
       "                (&#x27;gradientboostingclassifier&#x27;,\n",
       "                 GradientBoostingClassifier(max_depth=4, n_estimators=30))])</pre></div></div></div><div class=\"sk-serial\"><div class=\"sk-item\"><div class=\"sk-estimator sk-toggleable\"><input class=\"sk-toggleable__control sk-hidden--visually\" id=\"sk-estimator-id-34\" type=\"checkbox\" ><label for=\"sk-estimator-id-34\" class=\"sk-toggleable__label sk-toggleable__label-arrow\">SimpleImputer</label><div class=\"sk-toggleable__content\"><pre>SimpleImputer()</pre></div></div></div><div class=\"sk-item\"><div class=\"sk-estimator sk-toggleable\"><input class=\"sk-toggleable__control sk-hidden--visually\" id=\"sk-estimator-id-35\" type=\"checkbox\" ><label for=\"sk-estimator-id-35\" class=\"sk-toggleable__label sk-toggleable__label-arrow\">GradientBoostingClassifier</label><div class=\"sk-toggleable__content\"><pre>GradientBoostingClassifier(max_depth=4, n_estimators=30)</pre></div></div></div></div></div></div></div>"
      ],
      "text/plain": [
       "Pipeline(steps=[('simpleimputer', SimpleImputer()),\n",
       "                ('gradientboostingclassifier',\n",
       "                 GradientBoostingClassifier(max_depth=4, n_estimators=30))])"
      ]
     },
     "execution_count": 59,
     "metadata": {},
     "output_type": "execute_result"
    }
   ],
   "source": [
    "model.best_estimator_"
   ]
  },
  {
   "cell_type": "code",
   "execution_count": 60,
   "id": "e3358062-9279-4aa1-8c6a-e29628dfeab5",
   "metadata": {},
   "outputs": [
    {
     "data": {
      "text/plain": [
       "0.7423103443511987"
      ]
     },
     "execution_count": 60,
     "metadata": {},
     "output_type": "execute_result"
    }
   ],
   "source": [
    "model.best_score_"
   ]
  },
  {
   "cell_type": "code",
   "execution_count": 61,
   "id": "0b7dbe13-244d-4daa-aecd-7487f88db327",
   "metadata": {},
   "outputs": [
    {
     "name": "stdout",
     "output_type": "stream",
     "text": [
      "Training Accuracy: 0.7477\n",
      "Validation Accuracy: 0.7429\n"
     ]
    }
   ],
   "source": [
    "acc_train = model.score(X_train, y_train)\n",
    "acc_test = model.score(X_test, y_test)\n",
    "\n",
    "print(\"Training Accuracy:\", round(acc_train, 4))\n",
    "print(\"Validation Accuracy:\", round(acc_test, 4))"
   ]
  },
  {
   "cell_type": "code",
   "execution_count": 62,
   "id": "bc4fbda2-9264-4212-a294-3872b1973636",
   "metadata": {},
   "outputs": [
    {
     "data": {
      "text/plain": [
       "<sklearn.metrics._plot.confusion_matrix.ConfusionMatrixDisplay at 0x7fefc2428ac0>"
      ]
     },
     "execution_count": 62,
     "metadata": {},
     "output_type": "execute_result"
    },
    {
     "data": {
      "image/png": "[encoded data removed]",
      "text/plain": [
       "<Figure size 640x480 with 2 Axes>"
      ]
     },
     "metadata": {},
     "output_type": "display_data"
    }
   ],
   "source": [
    "# Plot confusion matrix\n",
    "ConfusionMatrixDisplay.from_estimator(model, X_test, y_test)"
   ]
  },
  {
   "cell_type": "code",
   "execution_count": 63,
   "id": "0635b696-a567-4789-b77f-a088d7498fda",
   "metadata": {},
   "outputs": [
    {
     "name": "stdout",
     "output_type": "stream",
     "text": [
      "              precision    recall  f1-score   support\n",
      "\n",
      "         0.0       0.76      0.70      0.73      6614\n",
      "         1.0       0.73      0.79      0.76      6814\n",
      "\n",
      "    accuracy                           0.74     13428\n",
      "   macro avg       0.74      0.74      0.74     13428\n",
      "weighted avg       0.74      0.74      0.74     13428\n",
      "\n"
     ]
    }
   ],
   "source": [
    "# Print classification report\n",
    "print(classification_report(y_test, model.predict(X_test)))"
   ]
  },
  {
   "cell_type": "code",
   "execution_count": 64,
   "id": "3d3e6082-b7c3-43fb-b644-1209d1fd164a",
   "metadata": {},
   "outputs": [],
   "source": [
    "# Save model\n",
    "with open(\"../models/model_gbc.pkl\", \"wb\") as f:\n",
    "    pickle.dump(model, f)"
   ]
  },
  {
   "cell_type": "code",
   "execution_count": 67,
   "id": "78346f71-6947-40b2-be82-2991fa31fbf8",
   "metadata": {},
   "outputs": [
    {
     "data": {
      "text/plain": [
       "{'HighBP': 1.0,\n",
       " 'HighChol': 1.0,\n",
       " 'CholCheck': 1.0,\n",
       " 'BMI': 35.0,\n",
       " 'Smoker': 0.0,\n",
       " 'Stroke': 0.0,\n",
       " 'HeartDiseaseorAttack': 0.0,\n",
       " 'PhysActivity': 1.0,\n",
       " 'Fruits': 0.0,\n",
       " 'Veggies': 1.0,\n",
       " 'HvyAlcoholConsump': 1.0,\n",
       " 'AnyHealthcare': 1.0,\n",
       " 'NoDocbcCost': 0.0,\n",
       " 'GenHlth': 2.0,\n",
       " 'MentHlth': 0.0,\n",
       " 'PhysHlth': 0.0,\n",
       " 'DiffWalk': 0.0,\n",
       " 'Sex': 1.0,\n",
       " 'Age': 5.0,\n",
       " 'Education': 4.0,\n",
       " 'Income': 9.0}"
      ]
     },
     "execution_count": 67,
     "metadata": {},
     "output_type": "execute_result"
    }
   ],
   "source": [
    "X_train.iloc[1,:].to_dict()"
   ]
  },
  {
   "cell_type": "code",
   "execution_count": null,
   "id": "1d8bf81a-b841-4fbb-ba7b-26191f221783",
   "metadata": {},
   "outputs": [],
   "source": []
  }
 ],
 "metadata": {
  "kernelspec": {
   "display_name": "Python [conda env:tf3x] *",
   "language": "python",
   "name": "conda-env-tf3x-py"
  },
  "language_info": {
   "codemirror_mode": {
    "name": "ipython",
    "version": 3
   },
   "file_extension": ".py",
   "mimetype": "text/x-python",
   "name": "python",
   "nbconvert_exporter": "python",
   "pygments_lexer": "ipython3",
   "version": "3.8.17"
  }
 },
 "nbformat": 4,
 "nbformat_minor": 5
}
